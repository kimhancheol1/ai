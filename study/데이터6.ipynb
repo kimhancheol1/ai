{
 "cells": [
  {
   "cell_type": "markdown",
   "metadata": {},
   "source": [
    "사료 제조사별 성능차이가 있을까?(가설검정)\n",
    "\n",
    "병아리가 부화한 지 5일이 지났다. 그런데 부화장 A에서 태어난 병아리 대비 부화장 B에서 태어난 병아리의 덩치가 더 작아 보인다. \n",
    "서로 다른 사료를 먹고 있으나, 정말 작은 건지 검정해보자."
   ]
  },
  {
   "cell_type": "code",
   "execution_count": 6,
   "metadata": {},
   "outputs": [
    {
     "data": {
      "text/html": [
       "<div>\n",
       "<style scoped>\n",
       "    .dataframe tbody tr th:only-of-type {\n",
       "        vertical-align: middle;\n",
       "    }\n",
       "\n",
       "    .dataframe tbody tr th {\n",
       "        vertical-align: top;\n",
       "    }\n",
       "\n",
       "    .dataframe thead th {\n",
       "        text-align: right;\n",
       "    }\n",
       "</style>\n",
       "<table border=\"1\" class=\"dataframe\">\n",
       "  <thead>\n",
       "    <tr style=\"text-align: right;\">\n",
       "      <th></th>\n",
       "      <th>hatchery</th>\n",
       "      <th>chick_nm</th>\n",
       "      <th>weight</th>\n",
       "    </tr>\n",
       "  </thead>\n",
       "  <tbody>\n",
       "    <tr>\n",
       "      <th>0</th>\n",
       "      <td>A</td>\n",
       "      <td>a01</td>\n",
       "      <td>112</td>\n",
       "    </tr>\n",
       "    <tr>\n",
       "      <th>1</th>\n",
       "      <td>A</td>\n",
       "      <td>a05</td>\n",
       "      <td>116</td>\n",
       "    </tr>\n",
       "    <tr>\n",
       "      <th>2</th>\n",
       "      <td>A</td>\n",
       "      <td>a09</td>\n",
       "      <td>106</td>\n",
       "    </tr>\n",
       "    <tr>\n",
       "      <th>3</th>\n",
       "      <td>A</td>\n",
       "      <td>a12</td>\n",
       "      <td>104</td>\n",
       "    </tr>\n",
       "    <tr>\n",
       "      <th>4</th>\n",
       "      <td>A</td>\n",
       "      <td>a15</td>\n",
       "      <td>116</td>\n",
       "    </tr>\n",
       "    <tr>\n",
       "      <th>5</th>\n",
       "      <td>A</td>\n",
       "      <td>a17</td>\n",
       "      <td>118</td>\n",
       "    </tr>\n",
       "    <tr>\n",
       "      <th>6</th>\n",
       "      <td>A</td>\n",
       "      <td>a26</td>\n",
       "      <td>110</td>\n",
       "    </tr>\n",
       "    <tr>\n",
       "      <th>7</th>\n",
       "      <td>A</td>\n",
       "      <td>a28</td>\n",
       "      <td>112</td>\n",
       "    </tr>\n",
       "    <tr>\n",
       "      <th>8</th>\n",
       "      <td>A</td>\n",
       "      <td>a29</td>\n",
       "      <td>106</td>\n",
       "    </tr>\n",
       "    <tr>\n",
       "      <th>9</th>\n",
       "      <td>A</td>\n",
       "      <td>a30</td>\n",
       "      <td>108</td>\n",
       "    </tr>\n",
       "    <tr>\n",
       "      <th>10</th>\n",
       "      <td>B</td>\n",
       "      <td>b01</td>\n",
       "      <td>100</td>\n",
       "    </tr>\n",
       "    <tr>\n",
       "      <th>11</th>\n",
       "      <td>B</td>\n",
       "      <td>b02</td>\n",
       "      <td>110</td>\n",
       "    </tr>\n",
       "    <tr>\n",
       "      <th>12</th>\n",
       "      <td>B</td>\n",
       "      <td>b07</td>\n",
       "      <td>98</td>\n",
       "    </tr>\n",
       "    <tr>\n",
       "      <th>13</th>\n",
       "      <td>B</td>\n",
       "      <td>b11</td>\n",
       "      <td>100</td>\n",
       "    </tr>\n",
       "    <tr>\n",
       "      <th>14</th>\n",
       "      <td>B</td>\n",
       "      <td>b13</td>\n",
       "      <td>104</td>\n",
       "    </tr>\n",
       "    <tr>\n",
       "      <th>15</th>\n",
       "      <td>B</td>\n",
       "      <td>b17</td>\n",
       "      <td>112</td>\n",
       "    </tr>\n",
       "    <tr>\n",
       "      <th>16</th>\n",
       "      <td>B</td>\n",
       "      <td>b22</td>\n",
       "      <td>106</td>\n",
       "    </tr>\n",
       "    <tr>\n",
       "      <th>17</th>\n",
       "      <td>B</td>\n",
       "      <td>b27</td>\n",
       "      <td>106</td>\n",
       "    </tr>\n",
       "    <tr>\n",
       "      <th>18</th>\n",
       "      <td>B</td>\n",
       "      <td>b28</td>\n",
       "      <td>96</td>\n",
       "    </tr>\n",
       "    <tr>\n",
       "      <th>19</th>\n",
       "      <td>B</td>\n",
       "      <td>b30</td>\n",
       "      <td>110</td>\n",
       "    </tr>\n",
       "  </tbody>\n",
       "</table>\n",
       "</div>"
      ],
      "text/plain": [
       "   hatchery chick_nm  weight\n",
       "0         A      a01     112\n",
       "1         A      a05     116\n",
       "2         A      a09     106\n",
       "3         A      a12     104\n",
       "4         A      a15     116\n",
       "5         A      a17     118\n",
       "6         A      a26     110\n",
       "7         A      a28     112\n",
       "8         A      a29     106\n",
       "9         A      a30     108\n",
       "10        B      b01     100\n",
       "11        B      b02     110\n",
       "12        B      b07      98\n",
       "13        B      b11     100\n",
       "14        B      b13     104\n",
       "15        B      b17     112\n",
       "16        B      b22     106\n",
       "17        B      b27     106\n",
       "18        B      b28      96\n",
       "19        B      b30     110"
      ]
     },
     "execution_count": 6,
     "metadata": {},
     "output_type": "execute_result"
    }
   ],
   "source": [
    "import pandas as pd\n",
    "\n",
    "test = pd.read_csv('ch4-3.csv')\n",
    "test"
   ]
  },
  {
   "cell_type": "markdown",
   "metadata": {},
   "source": [
    "상자 그림으로 분포 비교하기"
   ]
  },
  {
   "cell_type": "code",
   "execution_count": 10,
   "metadata": {},
   "outputs": [
    {
     "name": "stderr",
     "output_type": "stream",
     "text": [
      "C:\\Users\\HKIT\\AppData\\Local\\Packages\\PythonSoftwareFoundation.Python.3.12_qbz5n2kfra8p0\\LocalCache\\local-packages\\Python312\\site-packages\\IPython\\core\\pylabtools.py:170: UserWarning: Glyph 48512 (\\N{HANGUL SYLLABLE BU}) missing from current font.\n",
      "  fig.canvas.print_figure(bytes_io, **kw)\n",
      "C:\\Users\\HKIT\\AppData\\Local\\Packages\\PythonSoftwareFoundation.Python.3.12_qbz5n2kfra8p0\\LocalCache\\local-packages\\Python312\\site-packages\\IPython\\core\\pylabtools.py:170: UserWarning: Glyph 54868 (\\N{HANGUL SYLLABLE HWA}) missing from current font.\n",
      "  fig.canvas.print_figure(bytes_io, **kw)\n",
      "C:\\Users\\HKIT\\AppData\\Local\\Packages\\PythonSoftwareFoundation.Python.3.12_qbz5n2kfra8p0\\LocalCache\\local-packages\\Python312\\site-packages\\IPython\\core\\pylabtools.py:170: UserWarning: Glyph 51109 (\\N{HANGUL SYLLABLE JANG}) missing from current font.\n",
      "  fig.canvas.print_figure(bytes_io, **kw)\n",
      "C:\\Users\\HKIT\\AppData\\Local\\Packages\\PythonSoftwareFoundation.Python.3.12_qbz5n2kfra8p0\\LocalCache\\local-packages\\Python312\\site-packages\\IPython\\core\\pylabtools.py:170: UserWarning: Glyph 47800 (\\N{HANGUL SYLLABLE MOM}) missing from current font.\n",
      "  fig.canvas.print_figure(bytes_io, **kw)\n",
      "C:\\Users\\HKIT\\AppData\\Local\\Packages\\PythonSoftwareFoundation.Python.3.12_qbz5n2kfra8p0\\LocalCache\\local-packages\\Python312\\site-packages\\IPython\\core\\pylabtools.py:170: UserWarning: Glyph 47924 (\\N{HANGUL SYLLABLE MU}) missing from current font.\n",
      "  fig.canvas.print_figure(bytes_io, **kw)\n",
      "C:\\Users\\HKIT\\AppData\\Local\\Packages\\PythonSoftwareFoundation.Python.3.12_qbz5n2kfra8p0\\LocalCache\\local-packages\\Python312\\site-packages\\IPython\\core\\pylabtools.py:170: UserWarning: Glyph 44172 (\\N{HANGUL SYLLABLE GE}) missing from current font.\n",
      "  fig.canvas.print_figure(bytes_io, **kw)\n",
      "C:\\Users\\HKIT\\AppData\\Local\\Packages\\PythonSoftwareFoundation.Python.3.12_qbz5n2kfra8p0\\LocalCache\\local-packages\\Python312\\site-packages\\IPython\\core\\pylabtools.py:170: UserWarning: Glyph 48516 (\\N{HANGUL SYLLABLE BUN}) missing from current font.\n",
      "  fig.canvas.print_figure(bytes_io, **kw)\n",
      "C:\\Users\\HKIT\\AppData\\Local\\Packages\\PythonSoftwareFoundation.Python.3.12_qbz5n2kfra8p0\\LocalCache\\local-packages\\Python312\\site-packages\\IPython\\core\\pylabtools.py:170: UserWarning: Glyph 54252 (\\N{HANGUL SYLLABLE PO}) missing from current font.\n",
      "  fig.canvas.print_figure(bytes_io, **kw)\n",
      "C:\\Users\\HKIT\\AppData\\Local\\Packages\\PythonSoftwareFoundation.Python.3.12_qbz5n2kfra8p0\\LocalCache\\local-packages\\Python312\\site-packages\\IPython\\core\\pylabtools.py:170: UserWarning: Glyph 48708 (\\N{HANGUL SYLLABLE BI}) missing from current font.\n",
      "  fig.canvas.print_figure(bytes_io, **kw)\n",
      "C:\\Users\\HKIT\\AppData\\Local\\Packages\\PythonSoftwareFoundation.Python.3.12_qbz5n2kfra8p0\\LocalCache\\local-packages\\Python312\\site-packages\\IPython\\core\\pylabtools.py:170: UserWarning: Glyph 44368 (\\N{HANGUL SYLLABLE GYO}) missing from current font.\n",
      "  fig.canvas.print_figure(bytes_io, **kw)\n"
     ]
    },
    {
     "data": {
      "image/png": "[encoded data removed]",
      "text/plain": [
       "<Figure size 1000x700 with 1 Axes>"
      ]
     },
     "metadata": {},
     "output_type": "display_data"
    }
   ],
   "source": [
    "import pandas as pd\n",
    "import seaborn as sns\n",
    "import matplotlib.pyplot as plt\n",
    "\n",
    "# 데이터 읽기\n",
    "test = pd.read_csv('ch4-3.csv')\n",
    "\n",
    "plt.figure(figsize=(10,7))\n",
    "sns.boxenplot(x='weight', y='hatchery', data=test)\n",
    "plt.title('부화장A vs B 몸무게 분포 비교', fontsize=17)\n",
    "plt.show()\n"
   ]
  },
  {
   "cell_type": "markdown",
   "metadata": {},
   "source": [
    "통계적으로 두 집단간의 몸무게가 같은지 다른지는 어떻게 설명할수 있을까\n",
    "\n",
    "-> 가설 검정 : 추론 통계의 영역으로 비교하는 값과 차이가 없다는 가정의 귀무가설 반대인 대립가설을 설정해서 검정 통계량으로 가설의 진위를 판단"
   ]
  },
  {
   "cell_type": "markdown",
   "metadata": {},
   "source": [
    "정규 분포인지 검정하기"
   ]
  },
  {
   "cell_type": "markdown",
   "metadata": {},
   "source": [
    "가설 검정 방법론이 t-test 통해서 진행\n",
    "\n",
    "t- test : 데이터가 정규 분포를 한다는 가정하에 평균이 데이터의 대표값의 역할을 한다고 전제\n",
    "\n",
    "-> 샤피로 - 윌크 검정을 통해서 정규분포를 따르는지 판정\n",
    "- 샤피로 쓰면 정규분포 있다는거고 t-test써서 귀무가설 대립가설"
   ]
  },
  {
   "cell_type": "code",
   "execution_count": 14,
   "metadata": {},
   "outputs": [
    {
     "data": {
      "text/plain": [
       "ShapiroResult(statistic=0.9400016973451231, pvalue=0.5530322552073004)"
      ]
     },
     "execution_count": 14,
     "metadata": {},
     "output_type": "execute_result"
    }
   ],
   "source": [
    "import scipy as sp\n",
    "\n",
    "# 부화장 A만 별도로 데이터셋 구성\n",
    "test_a = test.loc[test.hatchery == 'A', 'weight']\n",
    "sp.stats.shapiro(test_a)"
   ]
  },
  {
   "cell_type": "code",
   "execution_count": 13,
   "metadata": {},
   "outputs": [
    {
     "data": {
      "text/plain": [
       "ShapiroResult(statistic=0.9390683777600799, pvalue=0.5426943326835627)"
      ]
     },
     "execution_count": 13,
     "metadata": {},
     "output_type": "execute_result"
    }
   ],
   "source": [
    "# 부화장 B만 별도로 데이터셋 구성\n",
    "test_b = test.loc[test.hatchery == 'B', 'weight']\n",
    "sp.stats.shapiro(test_b)"
   ]
  },
  {
   "cell_type": "markdown",
   "metadata": {},
   "source": [
    "pvalue라는 값이 test_a가 0.553   b는 0.542\n",
    "신뢰수준을 95%로 설정할 때 수준인 0.05보다 큼\n",
    "-> 귀무가설을 채택 -> 정규분포이다\n",
    "\n",
    "샤피로 월크 검정을 통과 -> 정규분포\n",
    "\n",
    "t-test로 두 집단 간 평균 검정하기"
   ]
  },
  {
   "cell_type": "markdown",
   "metadata": {},
   "source": [
    "샤피로했을때 95퍼는 0.05라는것 아래에 0.010~이니 우리가 생각한 기준에 안맞는듯"
   ]
  },
  {
   "cell_type": "code",
   "execution_count": 15,
   "metadata": {},
   "outputs": [
    {
     "data": {
      "text/plain": [
       "TtestResult(statistic=2.842528280230058, pvalue=0.010803990633924204, df=18.0)"
      ]
     },
     "execution_count": 15,
     "metadata": {},
     "output_type": "execute_result"
    }
   ],
   "source": [
    "# 부화장 A,B 집단 간 평균 검정\n",
    "sp.stats.ttest_ind(test_a,test_b)"
   ]
  },
  {
   "cell_type": "markdown",
   "metadata": {},
   "source": [
    "두 부화장 A,B 병아리 크기 확인해보니 실제 pvalue 0.01인것을 확인 < 0.05 보다 작다(95% 신뢰수준) 몸무게가 서로 다르다!"
   ]
  },
  {
   "cell_type": "markdown",
   "metadata": {},
   "source": [
    "<img src=\"1.png\" width=\"600\" height=\"600\">\n",
    "\n",
    "<img src=\"2.png\" width=\"600\" height=\"600\">\n",
    "\n",
    "<img src=\"3.png\" width=\"600\" height=\"600\">"
   ]
  },
  {
   "cell_type": "markdown",
   "metadata": {},
   "source": [
    "1. iris 데이터 셋의 구조와 변수의 자료형을 pandas 메소드를 이용해 확인해 보세요. 몇개의 열과 행으로 이루어졌으며 각 열은 어떤 형태를 갖추고있나요?"
   ]
  },
  {
   "cell_type": "code",
   "execution_count": 19,
   "metadata": {},
   "outputs": [
    {
     "name": "stdout",
     "output_type": "stream",
     "text": [
      "<class 'pandas.core.frame.DataFrame'>\n",
      "RangeIndex: 150 entries, 0 to 149\n",
      "Data columns (total 5 columns):\n",
      " #   Column             Non-Null Count  Dtype  \n",
      "---  ------             --------------  -----  \n",
      " 0   sepal length (cm)  150 non-null    float64\n",
      " 1   sepal width (cm)   150 non-null    float64\n",
      " 2   petal length (cm)  150 non-null    float64\n",
      " 3   petal width (cm)   150 non-null    float64\n",
      " 4   target             150 non-null    int32  \n",
      "dtypes: float64(4), int32(1)\n",
      "memory usage: 5.4 KB\n",
      "(150, 5)\n",
      "sepal length (cm)    float64\n",
      "sepal width (cm)     float64\n",
      "petal length (cm)    float64\n",
      "petal width (cm)     float64\n",
      "target                 int32\n",
      "dtype: object\n"
     ]
    }
   ],
   "source": [
    "from sklearn.datasets import load_iris\n",
    "import pandas as pd\n",
    "# sklearn을 사용하여 iris 데이터셋 로드\n",
    "iris = load_iris()\n",
    "# pandas 데이터프레임으로 변환\n",
    "iris_df = pd.DataFrame(data=iris.data, columns=iris.feature_names)\n",
    "iris_df['target'] = iris.target\n",
    "\n",
    "# 행,열 구조 확인\n",
    "iris_df.info()\n",
    "\n",
    "# 데이터셋의 구조 확인\n",
    "print(iris_df.shape)\n",
    "print(iris_df.dtypes)"
   ]
  },
  {
   "cell_type": "markdown",
   "metadata": {},
   "source": [
    "2. head() 메소드를 이용해 iris 데이터셋의 처음부터 10행까지 데이터 불러오세요"
   ]
  },
  {
   "cell_type": "code",
   "execution_count": 20,
   "metadata": {},
   "outputs": [
    {
     "data": {
      "text/html": [
       "<div>\n",
       "<style scoped>\n",
       "    .dataframe tbody tr th:only-of-type {\n",
       "        vertical-align: middle;\n",
       "    }\n",
       "\n",
       "    .dataframe tbody tr th {\n",
       "        vertical-align: top;\n",
       "    }\n",
       "\n",
       "    .dataframe thead th {\n",
       "        text-align: right;\n",
       "    }\n",
       "</style>\n",
       "<table border=\"1\" class=\"dataframe\">\n",
       "  <thead>\n",
       "    <tr style=\"text-align: right;\">\n",
       "      <th></th>\n",
       "      <th>sepal length (cm)</th>\n",
       "      <th>sepal width (cm)</th>\n",
       "      <th>petal length (cm)</th>\n",
       "      <th>petal width (cm)</th>\n",
       "      <th>target</th>\n",
       "    </tr>\n",
       "  </thead>\n",
       "  <tbody>\n",
       "    <tr>\n",
       "      <th>0</th>\n",
       "      <td>5.1</td>\n",
       "      <td>3.5</td>\n",
       "      <td>1.4</td>\n",
       "      <td>0.2</td>\n",
       "      <td>0</td>\n",
       "    </tr>\n",
       "    <tr>\n",
       "      <th>1</th>\n",
       "      <td>4.9</td>\n",
       "      <td>3.0</td>\n",
       "      <td>1.4</td>\n",
       "      <td>0.2</td>\n",
       "      <td>0</td>\n",
       "    </tr>\n",
       "    <tr>\n",
       "      <th>2</th>\n",
       "      <td>4.7</td>\n",
       "      <td>3.2</td>\n",
       "      <td>1.3</td>\n",
       "      <td>0.2</td>\n",
       "      <td>0</td>\n",
       "    </tr>\n",
       "    <tr>\n",
       "      <th>3</th>\n",
       "      <td>4.6</td>\n",
       "      <td>3.1</td>\n",
       "      <td>1.5</td>\n",
       "      <td>0.2</td>\n",
       "      <td>0</td>\n",
       "    </tr>\n",
       "    <tr>\n",
       "      <th>4</th>\n",
       "      <td>5.0</td>\n",
       "      <td>3.6</td>\n",
       "      <td>1.4</td>\n",
       "      <td>0.2</td>\n",
       "      <td>0</td>\n",
       "    </tr>\n",
       "    <tr>\n",
       "      <th>5</th>\n",
       "      <td>5.4</td>\n",
       "      <td>3.9</td>\n",
       "      <td>1.7</td>\n",
       "      <td>0.4</td>\n",
       "      <td>0</td>\n",
       "    </tr>\n",
       "    <tr>\n",
       "      <th>6</th>\n",
       "      <td>4.6</td>\n",
       "      <td>3.4</td>\n",
       "      <td>1.4</td>\n",
       "      <td>0.3</td>\n",
       "      <td>0</td>\n",
       "    </tr>\n",
       "    <tr>\n",
       "      <th>7</th>\n",
       "      <td>5.0</td>\n",
       "      <td>3.4</td>\n",
       "      <td>1.5</td>\n",
       "      <td>0.2</td>\n",
       "      <td>0</td>\n",
       "    </tr>\n",
       "    <tr>\n",
       "      <th>8</th>\n",
       "      <td>4.4</td>\n",
       "      <td>2.9</td>\n",
       "      <td>1.4</td>\n",
       "      <td>0.2</td>\n",
       "      <td>0</td>\n",
       "    </tr>\n",
       "    <tr>\n",
       "      <th>9</th>\n",
       "      <td>4.9</td>\n",
       "      <td>3.1</td>\n",
       "      <td>1.5</td>\n",
       "      <td>0.1</td>\n",
       "      <td>0</td>\n",
       "    </tr>\n",
       "  </tbody>\n",
       "</table>\n",
       "</div>"
      ],
      "text/plain": [
       "   sepal length (cm)  sepal width (cm)  petal length (cm)  petal width (cm)  \\\n",
       "0                5.1               3.5                1.4               0.2   \n",
       "1                4.9               3.0                1.4               0.2   \n",
       "2                4.7               3.2                1.3               0.2   \n",
       "3                4.6               3.1                1.5               0.2   \n",
       "4                5.0               3.6                1.4               0.2   \n",
       "5                5.4               3.9                1.7               0.4   \n",
       "6                4.6               3.4                1.4               0.3   \n",
       "7                5.0               3.4                1.5               0.2   \n",
       "8                4.4               2.9                1.4               0.2   \n",
       "9                4.9               3.1                1.5               0.1   \n",
       "\n",
       "   target  \n",
       "0       0  \n",
       "1       0  \n",
       "2       0  \n",
       "3       0  \n",
       "4       0  \n",
       "5       0  \n",
       "6       0  \n",
       "7       0  \n",
       "8       0  \n",
       "9       0  "
      ]
     },
     "execution_count": 20,
     "metadata": {},
     "output_type": "execute_result"
    }
   ],
   "source": [
    "iris_df.head(10)"
   ]
  },
  {
   "cell_type": "markdown",
   "metadata": {},
   "source": [
    "3. sepal_width(꽃받침 너비) 열의 데이터 평균과 표준편차 그리고 3사 분위수를 구해보세요"
   ]
  },
  {
   "cell_type": "code",
   "execution_count": 25,
   "metadata": {},
   "outputs": [
    {
     "data": {
      "text/plain": [
       "count    150.000000\n",
       "mean       3.057333\n",
       "std        0.435866\n",
       "min        2.000000\n",
       "25%        2.800000\n",
       "50%        3.000000\n",
       "75%        3.300000\n",
       "max        4.400000\n",
       "Name: sepal width (cm), dtype: float64"
      ]
     },
     "execution_count": 25,
     "metadata": {},
     "output_type": "execute_result"
    }
   ],
   "source": [
    "iris_df['sepal width (cm)'].describe()"
   ]
  },
  {
   "cell_type": "code",
   "execution_count": 23,
   "metadata": {},
   "outputs": [
    {
     "name": "stdout",
     "output_type": "stream",
     "text": [
      "sepal_width 열의 평균: 3.0573333333333337\n",
      "sepal_width 열의 표준편차: 0.4358662849366982\n",
      "sepal_width 열의 3사 분위수: 3.3\n"
     ]
    }
   ],
   "source": [
    "# sepal_width 열의 평균, 표준편차, 3사 분위수 구하기\n",
    "sepal_width_mean = iris_df['sepal width (cm)'].mean()\n",
    "sepal_width_std = iris_df['sepal width (cm)'].std()\n",
    "sepal_width_q3 = iris_df['sepal width (cm)'].quantile(0.75)\n",
    "\n",
    "print(f\"sepal_width 열의 평균: {sepal_width_mean}\")\n",
    "print(f\"sepal_width 열의 표준편차: {sepal_width_std}\")\n",
    "print(f\"sepal_width 열의 3사 분위수: {sepal_width_q3}\")"
   ]
  },
  {
   "cell_type": "markdown",
   "metadata": {},
   "source": [
    "4. sepal width 열의 데이터 분포를 히스토그램으로 나타내어 보세요"
   ]
  },
  {
   "cell_type": "code",
   "execution_count": 34,
   "metadata": {},
   "outputs": [
    {
     "data": {
      "image/png": "[encoded data removed]",
      "text/plain": [
       "<Figure size 1000x700 with 1 Axes>"
      ]
     },
     "metadata": {},
     "output_type": "display_data"
    }
   ],
   "source": [
    "import matplotlib.pyplot as plt\n",
    "from sklearn.datasets import load_iris\n",
    "import pandas as pd\n",
    "\n",
    "# sklearn을 사용하여 iris 데이터셋 로드\n",
    "iris = load_iris()\n",
    "\n",
    "# pandas 데이터프레임으로 변환\n",
    "iris_df = pd.DataFrame(data=iris.data, columns=iris.feature_names)\n",
    "iris_df['target'] = iris.target\n",
    "\n",
    "# 히스토그램 그리기\n",
    "plt.figure(figsize=(10,7))\n",
    "plt.hist(iris_df['sepal width (cm)'], bins=10)\n",
    "plt.title('Iris Dataset - Sepal width Distribution', fontsize=17)\n",
    "plt.xlabel('Sepal width (cm)')\n",
    "plt.ylabel('Count')\n",
    "plt.show()\n"
   ]
  },
  {
   "cell_type": "markdown",
   "metadata": {},
   "source": [
    "상자그림을 이용해 sepal width의 분포를 나타내어 보세요. 그리고 sepal width가 가장 넓은 품종은 어떤 종인가요?"
   ]
  },
  {
   "cell_type": "code",
   "execution_count": 37,
   "metadata": {},
   "outputs": [
    {
     "data": {
      "image/png": "[encoded data removed]",
      "text/plain": [
       "<Figure size 800x1000 with 1 Axes>"
      ]
     },
     "metadata": {},
     "output_type": "display_data"
    }
   ],
   "source": [
    "# 상자 그림 그리기\n",
    "plt.figure(figsize=(8,10))\n",
    "plt.boxplot(iris_df['sepal width (cm)'])\n",
    "plt.title('Iris Dataset - Sepal width Box Plot', fontsize=17)\n",
    "plt.ylabel('Sepal width (cm)')\n",
    "plt.show()"
   ]
  },
  {
   "cell_type": "code",
   "execution_count": 38,
   "metadata": {},
   "outputs": [
    {
     "name": "stdout",
     "output_type": "stream",
     "text": [
      "Iris 데이터셋에서 sepal width가 가장 넓은 품종은 setosa입니다.\n"
     ]
    }
   ],
   "source": [
    "import matplotlib.pyplot as plt\n",
    "from sklearn.datasets import load_iris\n",
    "import pandas as pd\n",
    "import numpy as np\n",
    "\n",
    "# sklearn을 사용하여 iris 데이터셋 로드\n",
    "iris = load_iris()\n",
    "\n",
    "# pandas 데이터프레임으로 변환\n",
    "iris_df = pd.DataFrame(data=iris.data, columns=iris.feature_names)\n",
    "iris_df['target'] = iris.target\n",
    "\n",
    "# sepal width가 가장 넓은 품종 찾기\n",
    "max_sepal_width_species = iris.target_names[np.argmax(sepal_width_mean)]\n",
    "\n",
    "# 결과 출력\n",
    "print(f\"Iris 데이터셋에서 sepal width가 가장 넓은 품종은 {max_sepal_width_species}입니다.\")\n"
   ]
  },
  {
   "cell_type": "markdown",
   "metadata": {},
   "source": [
    "6. setosa 품종의 sepal width 만 필터링해 s라는 데이터 셋을 만들고, versicolor 품종의 sepal width만 필터링해 v라는 데이터셋을 만들어보세요"
   ]
  },
  {
   "cell_type": "code",
   "execution_count": 46,
   "metadata": {},
   "outputs": [],
   "source": [
    "# loc 속성을 사용하면 데이터 필터링 가능\n",
    "\n",
    "# setosa 품종의 sepal width만 필터링 setosa 0임 versicolor는 1이고\n",
    "s = iris_df.loc[iris_df['target'] == 0, 'sepal width (cm)']\n",
    "\n",
    "# versicolor 품종의 sepal width만 필터링  \n",
    "v = iris_df.loc[iris_df['target'] == 1, 'sepal width (cm)']"
   ]
  },
  {
   "cell_type": "code",
   "execution_count": 51,
   "metadata": {},
   "outputs": [
    {
     "name": "stdout",
     "output_type": "stream",
     "text": [
      "0      3.5\n",
      "1      3.0\n",
      "2      3.2\n",
      "3      3.1\n",
      "4      3.6\n",
      "      ... \n",
      "145    3.0\n",
      "146    2.5\n",
      "147    3.0\n",
      "148    3.4\n",
      "149    3.0\n",
      "Name: sepal width (cm), Length: 150, dtype: float64\n"
     ]
    }
   ],
   "source": [
    "print(s)"
   ]
  },
  {
   "cell_type": "code",
   "execution_count": 52,
   "metadata": {},
   "outputs": [
    {
     "name": "stdout",
     "output_type": "stream",
     "text": [
      "50    3.2\n",
      "51    3.2\n",
      "52    3.1\n",
      "53    2.3\n",
      "54    2.8\n",
      "55    2.8\n",
      "56    3.3\n",
      "57    2.4\n",
      "58    2.9\n",
      "59    2.7\n",
      "60    2.0\n",
      "61    3.0\n",
      "62    2.2\n",
      "63    2.9\n",
      "64    2.9\n",
      "65    3.1\n",
      "66    3.0\n",
      "67    2.7\n",
      "68    2.2\n",
      "69    2.5\n",
      "70    3.2\n",
      "71    2.8\n",
      "72    2.5\n",
      "73    2.8\n",
      "74    2.9\n",
      "75    3.0\n",
      "76    2.8\n",
      "77    3.0\n",
      "78    2.9\n",
      "79    2.6\n",
      "80    2.4\n",
      "81    2.4\n",
      "82    2.7\n",
      "83    2.7\n",
      "84    3.0\n",
      "85    3.4\n",
      "86    3.1\n",
      "87    2.3\n",
      "88    3.0\n",
      "89    2.5\n",
      "90    2.6\n",
      "91    3.0\n",
      "92    2.6\n",
      "93    2.3\n",
      "94    2.7\n",
      "95    3.0\n",
      "96    2.9\n",
      "97    2.9\n",
      "98    2.5\n",
      "99    2.8\n",
      "Name: sepal width (cm), dtype: float64\n"
     ]
    }
   ],
   "source": [
    "print(v)"
   ]
  },
  {
   "cell_type": "code",
   "execution_count": 50,
   "metadata": {},
   "outputs": [
    {
     "name": "stdout",
     "output_type": "stream",
     "text": [
      "0      3.5\n",
      "1      3.0\n",
      "2      3.2\n",
      "3      3.1\n",
      "4      3.6\n",
      "      ... \n",
      "145    3.0\n",
      "146    2.5\n",
      "147    3.0\n",
      "148    3.4\n",
      "149    3.0\n",
      "Name: sepal width (cm), Length: 150, dtype: float64\n"
     ]
    }
   ],
   "source": [
    "# loc 속성을 사용하면 데이터 필터링 가능\n",
    "s = iris_df.loc[:, 'sepal width (cm)']\n",
    "print(s)\n",
    "\n",
    "# s = iris_df.loc[행번호 또는 행이름]\n",
    "# -> 특정 행의 데이터를 가져옴"
   ]
  },
  {
   "cell_type": "code",
   "execution_count": 55,
   "metadata": {},
   "outputs": [
    {
     "name": "stdout",
     "output_type": "stream",
     "text": [
      "setosa 품종의 sepal width와 품종명:\n",
      "    sepal width (cm) species\n",
      "0                3.5  setosa\n",
      "1                3.0  setosa\n",
      "2                3.2  setosa\n",
      "3                3.1  setosa\n",
      "4                3.6  setosa\n",
      "5                3.9  setosa\n",
      "6                3.4  setosa\n",
      "7                3.4  setosa\n",
      "8                2.9  setosa\n",
      "9                3.1  setosa\n",
      "10               3.7  setosa\n",
      "11               3.4  setosa\n",
      "12               3.0  setosa\n",
      "13               3.0  setosa\n",
      "14               4.0  setosa\n",
      "15               4.4  setosa\n",
      "16               3.9  setosa\n",
      "17               3.5  setosa\n",
      "18               3.8  setosa\n",
      "19               3.8  setosa\n",
      "20               3.4  setosa\n",
      "21               3.7  setosa\n",
      "22               3.6  setosa\n",
      "23               3.3  setosa\n",
      "24               3.4  setosa\n",
      "25               3.0  setosa\n",
      "26               3.4  setosa\n",
      "27               3.5  setosa\n",
      "28               3.4  setosa\n",
      "29               3.2  setosa\n",
      "30               3.1  setosa\n",
      "31               3.4  setosa\n",
      "32               4.1  setosa\n",
      "33               4.2  setosa\n",
      "34               3.1  setosa\n",
      "35               3.2  setosa\n",
      "36               3.5  setosa\n",
      "37               3.6  setosa\n",
      "38               3.0  setosa\n",
      "39               3.4  setosa\n",
      "40               3.5  setosa\n",
      "41               2.3  setosa\n",
      "42               3.2  setosa\n",
      "43               3.5  setosa\n",
      "44               3.8  setosa\n",
      "45               3.0  setosa\n",
      "46               3.8  setosa\n",
      "47               3.2  setosa\n",
      "48               3.7  setosa\n",
      "49               3.3  setosa\n"
     ]
    }
   ],
   "source": [
    "import matplotlib.pyplot as plt\n",
    "from sklearn.datasets import load_iris\n",
    "import pandas as pd\n",
    "\n",
    "# sklearn을 사용하여 iris 데이터셋 로드\n",
    "iris = load_iris()\n",
    "\n",
    "# pandas 데이터프레임으로 변환\n",
    "iris_df = pd.DataFrame(data=iris.data, columns=iris.feature_names)\n",
    "iris_df['target'] = iris.target\n",
    "iris_df['species'] = [iris.target_names[t] for t in iris.target]\n",
    "\n",
    "# setosa 품종의 sepal width와 품종명 가져오기\n",
    "s = iris_df.loc[iris_df['target'] == 0, ['sepal width (cm)', 'species']]\n",
    "\n",
    "# versicolor 품종의 sepal width와 품종명 가져오기\n",
    "v = iris_df.loc[iris_df['target'] == 1, ['sepal width (cm)', 'species']]\n",
    "\n",
    "# 결과 확인\n",
    "print(\"setosa 품종의 sepal width와 품종명:\")\n",
    "print(s)\n"
   ]
  },
  {
   "cell_type": "code",
   "execution_count": 54,
   "metadata": {},
   "outputs": [
    {
     "name": "stdout",
     "output_type": "stream",
     "text": [
      "\n",
      "versicolor 품종의 sepal width와 품종명:\n",
      "    sepal width (cm)     species\n",
      "50               3.2  versicolor\n",
      "51               3.2  versicolor\n",
      "52               3.1  versicolor\n",
      "53               2.3  versicolor\n",
      "54               2.8  versicolor\n",
      "55               2.8  versicolor\n",
      "56               3.3  versicolor\n",
      "57               2.4  versicolor\n",
      "58               2.9  versicolor\n",
      "59               2.7  versicolor\n",
      "60               2.0  versicolor\n",
      "61               3.0  versicolor\n",
      "62               2.2  versicolor\n",
      "63               2.9  versicolor\n",
      "64               2.9  versicolor\n",
      "65               3.1  versicolor\n",
      "66               3.0  versicolor\n",
      "67               2.7  versicolor\n",
      "68               2.2  versicolor\n",
      "69               2.5  versicolor\n",
      "70               3.2  versicolor\n",
      "71               2.8  versicolor\n",
      "72               2.5  versicolor\n",
      "73               2.8  versicolor\n",
      "74               2.9  versicolor\n",
      "75               3.0  versicolor\n",
      "76               2.8  versicolor\n",
      "77               3.0  versicolor\n",
      "78               2.9  versicolor\n",
      "79               2.6  versicolor\n",
      "80               2.4  versicolor\n",
      "81               2.4  versicolor\n",
      "82               2.7  versicolor\n",
      "83               2.7  versicolor\n",
      "84               3.0  versicolor\n",
      "85               3.4  versicolor\n",
      "86               3.1  versicolor\n",
      "87               2.3  versicolor\n",
      "88               3.0  versicolor\n",
      "89               2.5  versicolor\n",
      "90               2.6  versicolor\n",
      "91               3.0  versicolor\n",
      "92               2.6  versicolor\n",
      "93               2.3  versicolor\n",
      "94               2.7  versicolor\n",
      "95               3.0  versicolor\n",
      "96               2.9  versicolor\n",
      "97               2.9  versicolor\n",
      "98               2.5  versicolor\n",
      "99               2.8  versicolor\n"
     ]
    }
   ],
   "source": [
    "print(\"\\nversicolor 품종의 sepal width와 품종명:\")\n",
    "print(v)"
   ]
  }
 ],
 "metadata": {
  "kernelspec": {
   "display_name": "Python 3",
   "language": "python",
   "name": "python3"
  },
  "language_info": {
   "codemirror_mode": {
    "name": "ipython",
    "version": 3
   },
   "file_extension": ".py",
   "mimetype": "text/x-python",
   "name": "python",
   "nbconvert_exporter": "python",
   "pygments_lexer": "ipython3",
   "version": "3.12.4"
  }
 },
 "nbformat": 4,
 "nbformat_minor": 2
}
