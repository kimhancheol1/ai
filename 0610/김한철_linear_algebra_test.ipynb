{
 "cells": [
  {
   "cell_type": "markdown",
   "metadata": {},
   "source": [
    "# 총괄 평가 문제"
   ]
  },
  {
   "cell_type": "markdown",
   "metadata": {},
   "source": [
    "## 6월 10일 (월)\n",
    "## 이름 :  김한철"
   ]
  },
  {
   "cell_type": "markdown",
   "metadata": {},
   "source": [
    "\n",
    "\n",
    "### 문제 : 파이썬 기본 개념 문제\n",
    "\n",
    "1\\) 다음 코드를 실행했을 때의 출력 결과를 예측하고, 그 이유를 선택하세요.\n",
    "\n",
    "\n",
    "\n",
    "```python\n",
    "   print(0.1 + 0.1 + 0.1 == 0.3)\n",
    "   print(0.1 * 3 == 0.3)"
   ]
  },
  {
   "cell_type": "markdown",
   "metadata": {},
   "source": [
    "- **a) True, True**\n",
    "  - 이유: 파이썬에서 소수점 계산이 정확하기 때문입니다.\n",
    "- **b) False, False**\n",
    "  - 이유: 파이썬에서 소수점 계산이 정확하지 않기 때문입니다.\n",
    "- **c) True, False**\n",
    "  - 이유: 파이썬에서 덧셈은 정확하지만 곱셈은 정확하지 않기 때문입니다.\n",
    "- **d) False, True**\n",
    "  - 이유: 파이썬에서 곱셈은 정확하지만 덧셈은 정확하지 않기 때문입니다."
   ]
  },
  {
   "cell_type": "markdown",
   "metadata": {},
   "source": [
    "b) false false 파이썬에서 소수점 계산이 정확하지 않기 때문입니다."
   ]
  },
  {
   "cell_type": "markdown",
   "metadata": {},
   "source": [
    "2. 다음 number 리스트에서 슬라이싱과 인덱싱을 사용하여 일부 요소를 추출하세요."
   ]
  },
  {
   "cell_type": "code",
   "execution_count": 3,
   "metadata": {},
   "outputs": [],
   "source": [
    "numbers = [0, 1, 2, 3, 4, 5, 6, 7, 8, 9]"
   ]
  },
  {
   "cell_type": "markdown",
   "metadata": {},
   "source": [
    "1) number 리스트의 마지막 요소를 추출하시오."
   ]
  },
  {
   "cell_type": "code",
   "execution_count": 5,
   "metadata": {},
   "outputs": [
    {
     "name": "stdout",
     "output_type": "stream",
     "text": [
      "9\n"
     ]
    }
   ],
   "source": [
    "# 정답을 기입하세요\n",
    "last_element = numbers[-1]"
   ]
  },
  {
   "cell_type": "code",
   "execution_count": 6,
   "metadata": {},
   "outputs": [],
   "source": [
    "expected_last_element = 9\n",
    "assert last_element == expected_last_element, f\"Expected {expected_last_element}, but got {last_element}\""
   ]
  },
  {
   "cell_type": "markdown",
   "metadata": {},
   "source": [
    "2) number 리스트의 첫 3개의 요소를 슬라이싱하여 추출하시오."
   ]
  },
  {
   "cell_type": "code",
   "execution_count": 10,
   "metadata": {},
   "outputs": [],
   "source": [
    "# 정답을 기입하세요\n",
    "first_three_elements = numbers[:3]"
   ]
  },
  {
   "cell_type": "code",
   "execution_count": 8,
   "metadata": {},
   "outputs": [],
   "source": [
    "expected_first_three_elements = [0, 1, 2]\n",
    "assert first_three_elements == expected_first_three_elements, f\"Expected {expected_first_three_elements}, but got {first_three_elements}\""
   ]
  },
  {
   "cell_type": "markdown",
   "metadata": {},
   "source": [
    "3) number 리스트의 짝수 인덱스 요소를 슬라이싱하여 추출하시오."
   ]
  },
  {
   "cell_type": "code",
   "execution_count": 12,
   "metadata": {},
   "outputs": [],
   "source": [
    "# 정답을 기입하세요\n",
    "even_index_elements = numbers[::2]"
   ]
  },
  {
   "cell_type": "code",
   "execution_count": 13,
   "metadata": {},
   "outputs": [],
   "source": [
    "expected_even_index_elements = [0, 2, 4, 6, 8]\n",
    "assert even_index_elements == expected_even_index_elements, f\"Expected {expected_even_index_elements}, but got {even_index_elements}\""
   ]
  },
  {
   "cell_type": "markdown",
   "metadata": {},
   "source": [
    "4) number 리스트의 인덱스 3부터 7까지 요소를 슬라이싱하여 추출하시오."
   ]
  },
  {
   "cell_type": "code",
   "execution_count": 16,
   "metadata": {},
   "outputs": [
    {
     "name": "stdout",
     "output_type": "stream",
     "text": [
      "[3, 4, 5, 6, 7]\n"
     ]
    }
   ],
   "source": [
    "# 정답을 기입하세요\n",
    "index_3_to_7_elements = numbers[3:8]"
   ]
  },
  {
   "cell_type": "code",
   "execution_count": 17,
   "metadata": {},
   "outputs": [],
   "source": [
    "expected_index_3_to_7_elements = [3, 4, 5, 6, 7]\n",
    "assert index_3_to_7_elements == expected_index_3_to_7_elements, f\"Expected {expected_index_3_to_7_elements}, but got {index_3_to_7_elements}\""
   ]
  },
  {
   "cell_type": "markdown",
   "metadata": {},
   "source": [
    "3\\) 얕은 복사와 깊은 복사의 설명으로 옳은 것을 선택하시오"
   ]
  },
  {
   "cell_type": "markdown",
   "metadata": {},
   "source": [
    "- **a)** 얕은 복사는 참조만 복사하고, 깊은 복사는 객체를 전체적으로 복사합니다.\n",
    "\n",
    "- **b)** 얕은 복사는 복사된 요소의 변경이 원본에 영향을 미칩니다. 깊은 복사는 원본이 변경되지 않습니다.\n",
    "\n",
    "- **c)** 얕은 복사와 깊은 복사 모두 원본에 영향을 미칩니다.\n",
    "\n",
    "- **d)** 얕은 복사는 원본의 참조를 공유하며, 깊은 복사는 원본과 독립적인 복사본을 만듭니다."
   ]
  },
  {
   "cell_type": "markdown",
   "metadata": {},
   "source": [
    "d) 얕은 복사는 원본의 참조를 공유하며, 깊은 복사는 원본과 독립적인 복사본을 만듭니다."
   ]
  },
  {
   "cell_type": "markdown",
   "metadata": {},
   "source": [
    "### 문제 : 넘파이\n",
    "\n",
    "4\\) 아래 질문에 대해 답하시오.\n",
    "\n",
    "1) NumPy를 사용하여 0부터 20까지의 수를 포함하는 배열을 arr 생성하는 코드를 작성하시오."
   ]
  },
  {
   "cell_type": "code",
   "execution_count": 24,
   "metadata": {},
   "outputs": [],
   "source": [
    "import numpy as np\n",
    "\n",
    "#0부터 20까지의 수를 포함하는 배열 arr을 생성 코드 아래에 작성\n",
    "arr = np.arange(21)"
   ]
  },
  {
   "cell_type": "code",
   "execution_count": 25,
   "metadata": {},
   "outputs": [],
   "source": [
    "expected_arr = np.array([0, 1, 2, 3, 4, 5, 6, 7, 8, 9, 10, 11, 12, 13, 14, 15, 16, 17, 18, 19, 20])\n",
    "assert np.array_equal(arr, expected_arr), f\"Expected {expected_arr}, but got {arr}\""
   ]
  },
  {
   "cell_type": "markdown",
   "metadata": {},
   "source": [
    "2) 위 문제 1)에서 생성한 배열에서 첫 번째와 마지막 요소를 제외한 중간 요소만을 선택하여 새로운 배열 arr2를 만드세요. "
   ]
  },
  {
   "cell_type": "code",
   "execution_count": 32,
   "metadata": {},
   "outputs": [],
   "source": [
    "arr2 = arr[1:-1]"
   ]
  },
  {
   "cell_type": "code",
   "execution_count": 33,
   "metadata": {},
   "outputs": [],
   "source": [
    "expected_arr2 = np.array([1, 2, 3, 4, 5, 6, 7, 8, 9, 10, 11, 12, 13, 14, 15, 16, 17, 18, 19])\n",
    "assert np.array_equal(arr2, expected_arr2), f\"Expected {expected_arr2}, but got {arr2}\""
   ]
  },
  {
   "cell_type": "markdown",
   "metadata": {},
   "source": [
    "5\\) 아래 밑줄 친 코드를 작성하고 출력 결과를 작성하시오."
   ]
  },
  {
   "cell_type": "code",
   "execution_count": 27,
   "metadata": {},
   "outputs": [],
   "source": [
    "A = np.array([[1, 2], [3, 4]])\n",
    "B = np.array([[1, 0], [0, 1]])"
   ]
  },
  {
   "cell_type": "markdown",
   "metadata": {},
   "source": [
    "1. 열 방향 (axis=0)으로 결합"
   ]
  },
  {
   "cell_type": "code",
   "execution_count": 28,
   "metadata": {},
   "outputs": [],
   "source": [
    "result_axis_0 = np.concatenate((A,B),axis=0)"
   ]
  },
  {
   "cell_type": "code",
   "execution_count": 29,
   "metadata": {},
   "outputs": [],
   "source": [
    "expected_axis_0 = np.array([[1, 2], [3, 4], [1, 0], [0, 1]])\n",
    "assert np.array_equal(result_axis_0, expected_axis_0), f\"Expected {expected_axis_0}, but got {result_axis_0}\""
   ]
  },
  {
   "cell_type": "markdown",
   "metadata": {},
   "source": [
    "2. 행 방향(axis=1)으로 결합\n"
   ]
  },
  {
   "cell_type": "code",
   "execution_count": 30,
   "metadata": {},
   "outputs": [],
   "source": [
    "result_axis_1 = np.concatenate((A,B),axis=1)"
   ]
  },
  {
   "cell_type": "code",
   "execution_count": 31,
   "metadata": {},
   "outputs": [],
   "source": [
    "expected_axis_1 = np.array([[1, 2, 1, 0], [3, 4, 0, 1]])\n",
    "assert np.array_equal(result_axis_1, expected_axis_1), f\"Expected {expected_axis_1}, but got {result_axis_1}\""
   ]
  },
  {
   "cell_type": "markdown",
   "metadata": {},
   "source": [
    "### 문제 : 벡터\n",
    "\n",
    "7\\) 벡터는 두가지 중요한 특성을 가집니다. 다음 중 벡터의 특성을 올바르게 나타낸 것을 선택 하세요\n",
    "    \n",
    "    a) 크기와 색상\n",
    "    \n",
    "    b) 크기와 방향\n",
    "    \n",
    "    c) 방향과 위치\n",
    "    \n",
    "    d) 위치와 거리"
   ]
  },
  {
   "cell_type": "markdown",
   "metadata": {},
   "source": [
    "\n",
    "b) 크기와 방향"
   ]
  },
  {
   "cell_type": "markdown",
   "metadata": {},
   "source": [
    "8\\) 벡터 a = [1 9 8]과 관련된 문제입니다."
   ]
  },
  {
   "cell_type": "markdown",
   "metadata": {},
   "source": [
    "1. 넘파이 배열로 만드는 명령어를 작성하시오."
   ]
  },
  {
   "cell_type": "code",
   "execution_count": 35,
   "metadata": {},
   "outputs": [],
   "source": [
    "import numpy as np\n",
    "a = np.array([1,9,8])"
   ]
  },
  {
   "cell_type": "markdown",
   "metadata": {},
   "source": [
    "2) 위에 생성된 벡터 a의 크기를 넘파이 함수를 이용해서 구해서 변수 norm에 저장하시오."
   ]
  },
  {
   "cell_type": "code",
   "execution_count": 86,
   "metadata": {},
   "outputs": [],
   "source": [
    "#벡터의 크기를 구하는 함수\n",
    "norm = np.linalg.norm(a)\n"
   ]
  },
  {
   "cell_type": "code",
   "execution_count": 87,
   "metadata": {},
   "outputs": [],
   "source": [
    "expected_norm = np.sqrt(1**2 + 9**2 + 8**2)\n",
    "assert np.isclose(norm, expected_norm), f\"Expected {expected_norm}, but got {norm}\""
   ]
  },
  {
   "cell_type": "markdown",
   "metadata": {},
   "source": [
    "3) 벡터 b = [3 9 2]를 내적한 결과를 변수 inner_product에 저장하시오."
   ]
  },
  {
   "cell_type": "code",
   "execution_count": 90,
   "metadata": {},
   "outputs": [],
   "source": [
    "# b 벡터 선언\n",
    "b = np.array([3,9,2])\n",
    "inner_product = np.dot(a,b)"
   ]
  },
  {
   "cell_type": "code",
   "execution_count": 91,
   "metadata": {},
   "outputs": [],
   "source": [
    "expected_inner_product = 1*3 + 9*9 + 8*2\n",
    "assert inner_product == expected_inner_product, f\"Expected {expected_inner_product}, but got {inner_product}\""
   ]
  },
  {
   "cell_type": "markdown",
   "metadata": {},
   "source": [
    "4) 위에 생성된 벡터 b와 외적한 결과를 변수 cross_product에 저장하시오."
   ]
  },
  {
   "cell_type": "code",
   "execution_count": 92,
   "metadata": {},
   "outputs": [],
   "source": [
    "cross_product = np.cross(a,b)"
   ]
  },
  {
   "cell_type": "code",
   "execution_count": 93,
   "metadata": {},
   "outputs": [],
   "source": [
    "expected_cross_product = np.array([9*2 - 8*9, 8*3 - 1*2, 1*9 - 9*3])\n",
    "assert np.array_equal(cross_product, expected_cross_product), f\"Expected {expected_cross_product}, but got {cross_product}\""
   ]
  },
  {
   "cell_type": "markdown",
   "metadata": {},
   "source": [
    "5) 넘파이 함수를 이용해서 벡터 b와 a의 차를 구하여 subtract_product에 저장하시오."
   ]
  },
  {
   "cell_type": "code",
   "execution_count": 38,
   "metadata": {},
   "outputs": [],
   "source": [
    "subtract_product = b-a"
   ]
  },
  {
   "cell_type": "code",
   "execution_count": 39,
   "metadata": {},
   "outputs": [],
   "source": [
    "expected_subtract_product = b - a\n",
    "assert np.array_equal(subtract_product, expected_subtract_product), f\"Expected {expected_subtract_product}, but got {subtract_product}\""
   ]
  },
  {
   "cell_type": "markdown",
   "metadata": {},
   "source": [
    "### 문제 : 행렬\n",
    "\n",
    "9\\) 다음 행렬 A, B에 대해서 \n",
    "\n",
    "$\n",
    "A = \\begin{pmatrix} \n",
    "1 & 2 \\\\ \n",
    "3 & 4 \n",
    "\\end{pmatrix}\n",
    "$\n",
    "$B = \\begin{pmatrix} 5 & 6 \\\\ 7 & 8 \\end{pmatrix}$ 연산을 수행하시오."
   ]
  },
  {
   "cell_type": "markdown",
   "metadata": {},
   "source": [
    "1) 두 행렬 A와 B 행렬의 덧셈을 변수 C_add에 저장하시오."
   ]
  },
  {
   "cell_type": "code",
   "execution_count": 43,
   "metadata": {},
   "outputs": [],
   "source": [
    "A = np.array([[1,2],[3,4]])\n",
    "B = np.array([[5,6],[7,8]])\n",
    "C_add = A+B"
   ]
  },
  {
   "cell_type": "code",
   "execution_count": 44,
   "metadata": {},
   "outputs": [],
   "source": [
    "expected_add = np.array([[6, 8], [10, 12]])\n",
    "assert np.array_equal(C_add, expected_add), f\"Expected {expected_add}, but got {C_add}\""
   ]
  },
  {
   "cell_type": "markdown",
   "metadata": {},
   "source": [
    "2) 두 행렬 A와 B 행렬의 뺄셈을 변수 C_subtract 에 저장 하시오"
   ]
  },
  {
   "cell_type": "code",
   "execution_count": 45,
   "metadata": {},
   "outputs": [],
   "source": [
    "C_subtract = A-B"
   ]
  },
  {
   "cell_type": "code",
   "execution_count": 46,
   "metadata": {},
   "outputs": [],
   "source": [
    "expected_subtract = np.array([[-4, -4], [-4, -4]])\n",
    "assert np.array_equal(C_subtract, expected_subtract), f\"Expected {expected_subtract}, but got {C_subtract}\""
   ]
  },
  {
   "cell_type": "markdown",
   "metadata": {},
   "source": [
    "3) 두 행렬 A와 B의 행렬 곱을 수행하는 코드를 작성하여 변수 C_result에 저장하시오."
   ]
  },
  {
   "cell_type": "code",
   "execution_count": 47,
   "metadata": {},
   "outputs": [],
   "source": [
    "C_result = np.matmul(A,B)"
   ]
  },
  {
   "cell_type": "code",
   "execution_count": 48,
   "metadata": {},
   "outputs": [],
   "source": [
    "expected_result = np.array([[19, 22], [43, 50]])\n",
    "assert np.array_equal(C_result, expected_result), f\"Expected {expected_result}, but got {C_result}\""
   ]
  },
  {
   "cell_type": "markdown",
   "metadata": {},
   "source": [
    "4) 두 행렬 A와 B의 행렬 요소의 곱을 수행하는 코드를 작성하여 C_result2에 저장하시오."
   ]
  },
  {
   "cell_type": "code",
   "execution_count": 49,
   "metadata": {},
   "outputs": [],
   "source": [
    "C_result2 = A*B"
   ]
  },
  {
   "cell_type": "code",
   "execution_count": 50,
   "metadata": {},
   "outputs": [],
   "source": [
    "expected_result2 = np.array([[5, 12], [21, 32]])\n",
    "assert np.array_equal(C_result2, expected_result2), f\"Expected {expected_result2}, but got {C_result2}\""
   ]
  },
  {
   "cell_type": "markdown",
   "metadata": {},
   "source": [
    "10\\) 주어진 두 행렬 A와 B가 있습니다. 이 행렬의 크기를 구하고 행렬 곱셈이 가능한지 판단하시오.\n",
    "\n",
    "$A = \\begin{pmatrix}1 & 5 \\\\3 & 5 \\\\8 & 0 \\end{pmatrix},   \\\n",
    "B = \\begin{pmatrix}-1 & 1 & 5 \\\\4 & 2 & 9 \\end{pmatrix}$\n",
    "\n",
    "1) 각각 행렬의 크기를 작성하시오. (몇 행 몇 열)"
   ]
  },
  {
   "cell_type": "markdown",
   "metadata": {},
   "source": [
    "a) A는 3행 2열, B는 2행 3열 - 행렬 A와 B는 각각 3행 2열, 2행 3열이며, 행렬 곱셈이 가능합니다.\n",
    "\n",
    "b) A는 2행 3열, B는 3행 2열 - 행렬 A와 B는 각각 2행 3열, 3행 2열이며, 행렬 곱셈이 가능합니다.\n",
    "\n",
    "c) A는 3행 2열, B는 3행 2열 - 행렬 A와 B는 둘 다 3행 2열이며, 행렬 곱셈은 불가능합니다.\n",
    "\n",
    "d) A는 2행 3열, B는 2행 3열 - 행렬 A와 B는 둘 다 2행 3열이며, 행렬 곱셈은 불가능합니다.\n"
   ]
  },
  {
   "cell_type": "markdown",
   "metadata": {},
   "source": [
    "\n",
    "a) A는 3행 2열, B는 2행 3열 - 행렬 A와 B는 각각 3행 2열, 2행 3열이며, 행렬 곱셈이 가능합니다."
   ]
  },
  {
   "cell_type": "markdown",
   "metadata": {},
   "source": [
    "2) 두 행렬의 행렬 곱이 되는지 판단하고(예, 가능, 불가능), 행렬곱한 행렬의 크기를 작성하시오."
   ]
  },
  {
   "cell_type": "markdown",
   "metadata": {},
   "source": [
    "a) 가능, 결과 행렬은 3행 3\n",
    "\n",
    "b) 가능, 결과 행렬은 2행 2열\n",
    "\n",
    "c) 불가능, 행렬의 크기가 맞지 않아 곱셈을 수행할 수 없음\n",
    "\n",
    "d) 가능, 결과 행렬은 3행 2열"
   ]
  },
  {
   "cell_type": "markdown",
   "metadata": {},
   "source": [
    "a) 가능, 결과 행렬은 3행 3"
   ]
  },
  {
   "cell_type": "markdown",
   "metadata": {},
   "source": [
    "3) 두 행렬 A와 B의 행렬 곱 결과를 C_multiply에 저장하시오."
   ]
  },
  {
   "cell_type": "code",
   "execution_count": 58,
   "metadata": {},
   "outputs": [],
   "source": [
    "A = np.array([[1,5],[3,5],[8,0]])\n",
    "B = np.array([[-1,1,5],[4,2,9]])\n",
    "C_multiply = np.dot(A,B)\n"
   ]
  },
  {
   "cell_type": "code",
   "execution_count": 56,
   "metadata": {},
   "outputs": [],
   "source": [
    "# assert로 확인\n",
    "expected_result = 210\n",
    "assert np.array_equal(np.sum(C_multiply), expected_result), f\"Expected {expected_result}, but got {C_multiply}\""
   ]
  },
  {
   "cell_type": "markdown",
   "metadata": {},
   "source": [
    "11\\) 행렬과 관련된 조건으로 인덱싱 하는 문제입니다."
   ]
  },
  {
   "cell_type": "code",
   "execution_count": 59,
   "metadata": {},
   "outputs": [],
   "source": [
    "import numpy as np\n",
    "\n",
    "# 새로운 배열 생성\n",
    "b = np.array([[2, 1], [9, 12]])"
   ]
  },
  {
   "cell_type": "markdown",
   "metadata": {},
   "source": [
    "1) b 배열에 2이상의 값을 추출하여 변수 b_result에 저장하시오."
   ]
  },
  {
   "cell_type": "code",
   "execution_count": 60,
   "metadata": {},
   "outputs": [],
   "source": [
    "b_result = b[b>=2]"
   ]
  },
  {
   "cell_type": "code",
   "execution_count": 61,
   "metadata": {},
   "outputs": [],
   "source": [
    "assert np.array_equal(b_result, np.array([2, 9, 12]))"
   ]
  },
  {
   "cell_type": "markdown",
   "metadata": {},
   "source": [
    "2) b 배열에 2이상인 값의 인덱스 변수 indices에 저장하시오."
   ]
  },
  {
   "cell_type": "code",
   "execution_count": 84,
   "metadata": {},
   "outputs": [],
   "source": [
    "indice = np.where(b>=2)\n",
    "indices = list(zip(indice[0], indice[1]))\n"
   ]
  },
  {
   "cell_type": "code",
   "execution_count": 85,
   "metadata": {},
   "outputs": [],
   "source": [
    "# assert로 확인\n",
    "expected_indices = np.array([[0, 0], [1, 0], [1, 1]])\n",
    "assert np.array_equal(indices, expected_indices), f\"Expected {expected_indices}, but got {indices}\""
   ]
  },
  {
   "cell_type": "markdown",
   "metadata": {},
   "source": [
    "### 문제 : 함수\n",
    "\n",
    "12\\) 다항함수 f(x) = 2x^4 - 2x + pi의 그래프를 -5에서 5까지 그리는 파이썬 코드를 작성하시오.\n",
    "- pi는 math에 pi를 이용하세요."
   ]
  },
  {
   "cell_type": "code",
   "execution_count": 83,
   "metadata": {},
   "outputs": [
    {
     "data": {
      "image/png": "[encoded data removed]",
      "text/plain": [
       "<Figure size 640x480 with 1 Axes>"
      ]
     },
     "metadata": {},
     "output_type": "display_data"
    }
   ],
   "source": [
    "import matplotlib.pyplot as plt\n",
    "import numpy as np\n",
    "import math\n",
    "\n",
    "# 코드를 작성하시오\n",
    "x = np.linspace(-5, 5, 100)\n",
    "# 코드를 작성하시오\n",
    "y = 2*x**4-2*x+math.pi\n",
    "\n",
    "plt.plot(x, y)\n",
    "plt.show()\n",
    "\n"
   ]
  },
  {
   "cell_type": "markdown",
   "metadata": {},
   "source": [
    "### 문제 : 미분, 도함수\n",
    "\n",
    "13\\) 함수 f = x^4 + 3*y^3에 대해 x와 y의 편미분을 계산하는 직접 미분 코드를 작성하시오.\n",
    "- x에 대한 편미분 결과는 변수 fx에 저장\n",
    "- y에 대한 편미분 결과는 변수 fy에 저장"
   ]
  },
  {
   "cell_type": "code",
   "execution_count": 64,
   "metadata": {},
   "outputs": [],
   "source": [
    "import sympy as sp\n",
    "x , y = sp.symbols('x y')\n",
    "f = x**4 + 3*y**3\n",
    "\n",
    "fx = sp.diff(f,x)\n",
    "fy = sp.diff(f,y)"
   ]
  },
  {
   "cell_type": "code",
   "execution_count": 66,
   "metadata": {},
   "outputs": [],
   "source": [
    "# assert 구문으로 정답 확인\n",
    "assert fx == 4*x**3, \"x에 대한 편미분이 올바르지 않습니다.\"\n",
    "assert fy == 9*y**2, \"y에 대한 편미분이 올바르지 않습니다.\""
   ]
  },
  {
   "cell_type": "markdown",
   "metadata": {},
   "source": [
    "14\\) 아래 문제를 푸시오.\n",
    "\n",
    "1) 다음 수치 미분값을 계산해 주는 함수 numerical_derivative의 나머지 부분을 완성하시오.\n",
    "\n",
    "    (참고 : f는 람다 (lambda) 함수 입력임)"
   ]
  },
  {
   "cell_type": "code",
   "execution_count": 73,
   "metadata": {},
   "outputs": [],
   "source": [
    "def numerical_derivative(f, x, h=0.01):\n",
    "    return (f(x+h)-f(x))/h"
   ]
  },
  {
   "cell_type": "markdown",
   "metadata": {},
   "source": [
    "2) f(x) = x^2 + x의 x=10에서의 수치미분 값을 계산하여 변수 derivative에 저장하시오."
   ]
  },
  {
   "cell_type": "code",
   "execution_count": 76,
   "metadata": {},
   "outputs": [],
   "source": [
    "derivative = numerical_derivative(lambda x: x**2+x,10,0.01)"
   ]
  },
  {
   "cell_type": "markdown",
   "metadata": {},
   "source": [
    "13\\) torch를 이용하여  함수`(x^3 + 3*x) * exp(y) * sin(z)`에 대해 각 변수 **`x`**, **`y`**, `z`의 편미분을 계산하고, 결과를 출력하세요.\n",
    "- x의 편미분은 변수 dfx에 저장\n",
    "- y의 편미분은 변수 dfy에 저장\n",
    "- z에 편미분은 변수 dfz에 저장"
   ]
  },
  {
   "cell_type": "code",
   "execution_count": 1,
   "metadata": {},
   "outputs": [
    {
     "name": "stdout",
     "output_type": "stream",
     "text": [
      "tensor([395466.7500]) tensor([474560.0938]) tensor([-635269.])\n"
     ]
    }
   ],
   "source": [
    "# 관련 모듈 임포트\n",
    "import torch\n",
    "# 함수선언\n",
    "x = torch.tensor([3.0], requires_grad=True)\n",
    "y = torch.tensor([10.0], requires_grad=True)\n",
    "z = torch.tensor([2.5], requires_grad=True)\n",
    "f_xyz = (x**3+x*3)*torch.exp(y)*torch.sin(z)\n",
    "# 편미분 하기\n",
    "df = torch.autograd.grad(f_xyz,(x,y,z),retain_graph=True)\n",
    "dfx = df[0]\n",
    "dfy = df[1]\n",
    "dfz = df[2]\n",
    "\n",
    "print(df[0],df[1],df[2])\n"
   ]
  },
  {
   "cell_type": "code",
   "execution_count": 2,
   "metadata": {},
   "outputs": [],
   "source": [
    "# assert 구문으로 정답 확인\n",
    "assert torch.isclose(dfx, torch.tensor(395466.7500), atol=1e-4)\n",
    "assert torch.isclose(dfy, torch.tensor(474560.0938), atol=1e-4)\n",
    "assert torch.isclose(dfz, torch.tensor(-635269.), atol=1e-4)"
   ]
  }
 ],
 "metadata": {
  "kernelspec": {
   "display_name": "Python 3",
   "language": "python",
   "name": "python3"
  },
  "language_info": {
   "codemirror_mode": {
    "name": "ipython",
    "version": 3
   },
   "file_extension": ".py",
   "mimetype": "text/x-python",
   "name": "python",
   "nbconvert_exporter": "python",
   "pygments_lexer": "ipython3",
   "version": "3.12.4"
  }
 },
 "nbformat": 4,
 "nbformat_minor": 2
}
