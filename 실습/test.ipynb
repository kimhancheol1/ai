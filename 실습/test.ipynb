{
 "cells": [
  {
   "cell_type": "markdown",
   "metadata": {},
   "source": [
    "# 상관분석 및 회귀분석 실습\n",
    "\n",
    "이 노트북에서는 상관분석과 회귀분석을 단계별로 실습합니다. 각 단계마다 설명과 목표가 주어지며, 이를 따라 코드 셀을 완성해보세요."
   ]
  },
  {
   "cell_type": "markdown",
   "metadata": {},
   "source": [
    "## 문제 1: 데이터 불러오기\n",
    "\n",
    "### 설명\n",
    "\n",
    "먼저, `pandas` 라이브러리를 사용하여 데이터를 불러오고 확인합니다. 이는 데이터를 분석하기 전에 데이터의 구조와 내용을 파악하기 위함입니다.\n",
    "\n",
    "### 목표\n",
    "\n",
    "`pandas` 라이브러리를 사용하여 `ch5-1.csv` 파일을 불러오고, 데이터를 확인하십시오. 데이터를 확인하는 방법으로는 `head()` 메서드와 `info()` 메서드를 사용하십시오."
   ]
  },
  {
   "cell_type": "code",
   "execution_count": 2,
   "metadata": {},
   "outputs": [
    {
     "name": "stdout",
     "output_type": "stream",
     "text": [
      "  chick_nm  weight  egg_weight  movement  food\n",
      "0      a01     140          65       146    14\n",
      "1      a02     128          62       153    12\n",
      "2      a03     140          65       118    13\n",
      "3      a04     135          65       157    13\n",
      "4      a05     145          69       157    13\n",
      "<class 'pandas.core.frame.DataFrame'>\n",
      "RangeIndex: 30 entries, 0 to 29\n",
      "Data columns (total 5 columns):\n",
      " #   Column      Non-Null Count  Dtype \n",
      "---  ------      --------------  ----- \n",
      " 0   chick_nm    30 non-null     object\n",
      " 1   weight      30 non-null     int64 \n",
      " 2   egg_weight  30 non-null     int64 \n",
      " 3   movement    30 non-null     int64 \n",
      " 4   food        30 non-null     int64 \n",
      "dtypes: int64(4), object(1)\n",
      "memory usage: 1.3+ KB\n",
      "None\n"
     ]
    }
   ],
   "source": [
    "# 판다스 모듈 로딩\n",
    "import pandas as pd\n",
    "\n",
    "# 데이터 불러오기\n",
    "g = pd.read_csv('ch5-1.csv')\n",
    "\n",
    "# 데이터 확인\n",
    "print(g.head())\n",
    "# 데이터 구조 및 자료형 확인\n",
    "print(g.info())\n"
   ]
  },
  {
   "cell_type": "markdown",
   "metadata": {},
   "source": [
    "## 문제 2: 상관분석을 위한 데이터셋 준비\n",
    "\n",
    "### 설명\n",
    "\n",
    "상관분석은 숫자 형태의 데이터만 가능하므로 문자형인 첫 번째 열을 제외하고 별도의 데이터셋을 만듭니다. 이렇게 함으로써 상관 분석에 필요한 데이터만을 추출합니다.\n",
    "\n",
    "### 목표\n",
    "\n",
    "문자형인 첫 번째 열(`chick_nm`)을 제외하고 숫자형 데이터(`weight`, `egg_weight`, `movement`, `food`)만을 포함하는 새로운 데이터셋을 준비하십시오."
   ]
  },
  {
   "cell_type": "code",
   "execution_count": 3,
   "metadata": {},
   "outputs": [
    {
     "data": {
      "text/html": [
       "<div>\n",
       "<style scoped>\n",
       "    .dataframe tbody tr th:only-of-type {\n",
       "        vertical-align: middle;\n",
       "    }\n",
       "\n",
       "    .dataframe tbody tr th {\n",
       "        vertical-align: top;\n",
       "    }\n",
       "\n",
       "    .dataframe thead th {\n",
       "        text-align: right;\n",
       "    }\n",
       "</style>\n",
       "<table border=\"1\" class=\"dataframe\">\n",
       "  <thead>\n",
       "    <tr style=\"text-align: right;\">\n",
       "      <th></th>\n",
       "      <th>weight</th>\n",
       "      <th>egg_weight</th>\n",
       "      <th>movement</th>\n",
       "      <th>food</th>\n",
       "    </tr>\n",
       "  </thead>\n",
       "  <tbody>\n",
       "    <tr>\n",
       "      <th>0</th>\n",
       "      <td>140</td>\n",
       "      <td>65</td>\n",
       "      <td>146</td>\n",
       "      <td>14</td>\n",
       "    </tr>\n",
       "    <tr>\n",
       "      <th>1</th>\n",
       "      <td>128</td>\n",
       "      <td>62</td>\n",
       "      <td>153</td>\n",
       "      <td>12</td>\n",
       "    </tr>\n",
       "    <tr>\n",
       "      <th>2</th>\n",
       "      <td>140</td>\n",
       "      <td>65</td>\n",
       "      <td>118</td>\n",
       "      <td>13</td>\n",
       "    </tr>\n",
       "    <tr>\n",
       "      <th>3</th>\n",
       "      <td>135</td>\n",
       "      <td>65</td>\n",
       "      <td>157</td>\n",
       "      <td>13</td>\n",
       "    </tr>\n",
       "    <tr>\n",
       "      <th>4</th>\n",
       "      <td>145</td>\n",
       "      <td>69</td>\n",
       "      <td>157</td>\n",
       "      <td>13</td>\n",
       "    </tr>\n",
       "  </tbody>\n",
       "</table>\n",
       "</div>"
      ],
      "text/plain": [
       "   weight  egg_weight  movement  food\n",
       "0     140          65       146    14\n",
       "1     128          62       153    12\n",
       "2     140          65       118    13\n",
       "3     135          65       157    13\n",
       "4     145          69       157    13"
      ]
     },
     "execution_count": 3,
     "metadata": {},
     "output_type": "execute_result"
    }
   ],
   "source": [
    "# 여기에 문제 2의 코드를 작성하세요.\n",
    "# 첫 번째 열을 제외한 데이터셋 준비\n",
    "# 이름을 제외하고 다른 데이터 셋을 준비 \n",
    "w_n = g.iloc[:, 1:5]\n",
    "w_n.head()\n"
   ]
  },
  {
   "cell_type": "markdown",
   "metadata": {},
   "source": [
    "## 문제 3: 상관분석 실시\n",
    "\n",
    "### 설명\n",
    "\n",
    "`pandas`의 `corr()` 메소드를 사용하여 상관분석을 실시합니다. 이는 변수들 간의 상관관계를 수치적으로 파악하기 위함입니다.\n",
    "\n",
    "### 목표\n",
    "\n",
    "`pandas`의 `corr()` 메소드를 사용하여 상관 분석을 수행하고, 상관계수를 출력하십시오. `pearson` 방법을 사용하십시오."
   ]
  },
  {
   "cell_type": "code",
   "execution_count": 4,
   "metadata": {},
   "outputs": [
    {
     "data": {
      "text/html": [
       "<div>\n",
       "<style scoped>\n",
       "    .dataframe tbody tr th:only-of-type {\n",
       "        vertical-align: middle;\n",
       "    }\n",
       "\n",
       "    .dataframe tbody tr th {\n",
       "        vertical-align: top;\n",
       "    }\n",
       "\n",
       "    .dataframe thead th {\n",
       "        text-align: right;\n",
       "    }\n",
       "</style>\n",
       "<table border=\"1\" class=\"dataframe\">\n",
       "  <thead>\n",
       "    <tr style=\"text-align: right;\">\n",
       "      <th></th>\n",
       "      <th>weight</th>\n",
       "      <th>egg_weight</th>\n",
       "      <th>movement</th>\n",
       "      <th>food</th>\n",
       "    </tr>\n",
       "  </thead>\n",
       "  <tbody>\n",
       "    <tr>\n",
       "      <th>weight</th>\n",
       "      <td>1.000000</td>\n",
       "      <td>0.957169</td>\n",
       "      <td>0.380719</td>\n",
       "      <td>0.877574</td>\n",
       "    </tr>\n",
       "    <tr>\n",
       "      <th>egg_weight</th>\n",
       "      <td>0.957169</td>\n",
       "      <td>1.000000</td>\n",
       "      <td>0.428246</td>\n",
       "      <td>0.808147</td>\n",
       "    </tr>\n",
       "    <tr>\n",
       "      <th>movement</th>\n",
       "      <td>0.380719</td>\n",
       "      <td>0.428246</td>\n",
       "      <td>1.000000</td>\n",
       "      <td>0.319011</td>\n",
       "    </tr>\n",
       "    <tr>\n",
       "      <th>food</th>\n",
       "      <td>0.877574</td>\n",
       "      <td>0.808147</td>\n",
       "      <td>0.319011</td>\n",
       "      <td>1.000000</td>\n",
       "    </tr>\n",
       "  </tbody>\n",
       "</table>\n",
       "</div>"
      ],
      "text/plain": [
       "              weight  egg_weight  movement      food\n",
       "weight      1.000000    0.957169  0.380719  0.877574\n",
       "egg_weight  0.957169    1.000000  0.428246  0.808147\n",
       "movement    0.380719    0.428246  1.000000  0.319011\n",
       "food        0.877574    0.808147  0.319011  1.000000"
      ]
     },
     "execution_count": 4,
     "metadata": {},
     "output_type": "execute_result"
    }
   ],
   "source": [
    "# 여기에 문제 3의 코드를 작성하세요.\n",
    "# 상관 분석 실시\n",
    "w_cor = w_n.corr(method='pearson')\n",
    "w_cor\n"
   ]
  },
  {
   "cell_type": "markdown",
   "metadata": {},
   "source": [
    "weight 와 상관관계 순위를 분석하면? 1에 가까울 수록 높은 것\n",
    "1.egg_weight\n",
    "2.food\n",
    "3.movement\t"
   ]
  },
  {
   "cell_type": "markdown",
   "metadata": {},
   "source": [
    "## 문제 4: 상관 분석 결과 시각화\n",
    "\n",
    "### 설명\n",
    "\n",
    "`seaborn` 라이브러리를 사용하여 상관 관계를 시각화합니다. 시각화는 데이터를 직관적으로 이해하는 데 도움을 줍니다.\n",
    "\n",
    "### 목표\n",
    "\n",
    "1. `seaborn`의 `pairplot()` 함수를 사용하여 상관 관계를 시각화하십시오.\n",
    "2. `seaborn`의 `heatmap()` 함수를 사용하여 상관 행렬을 히트맵으로 시각화하십시오. 상관계수를 표시하고 색상은 'Blues'를 사용하십시오."
   ]
  },
  {
   "cell_type": "code",
   "execution_count": 5,
   "metadata": {},
   "outputs": [
    {
     "data": {
      "text/plain": [
       "<seaborn.axisgrid.PairGrid at 0x2467976f860>"
      ]
     },
     "execution_count": 5,
     "metadata": {},
     "output_type": "execute_result"
    },
    {
     "data": {
      "image/png": "[encoded data removed]",
      "text/plain": [
       "<Figure size 1000x1000 with 20 Axes>"
      ]
     },
     "metadata": {},
     "output_type": "display_data"
    }
   ],
   "source": [
    "# 여기에 문제 4의 코드를 작성하세요.\n",
    "# matplotlib, seaborn 모듈 임포트\n",
    "import matplotlib.pyplot as plt\n",
    "import seaborn as sns\n",
    "# 상관 관계 시각화 (산점도 행렬)\n",
    "sns.pairplot(w_n)\n",
    "# 상관 행렬도 그리기 (히트맵)\n"
   ]
  },
  {
   "cell_type": "code",
   "execution_count": 6,
   "metadata": {},
   "outputs": [
    {
     "data": {
      "text/plain": [
       "<Axes: >"
      ]
     },
     "execution_count": 6,
     "metadata": {},
     "output_type": "execute_result"
    },
    {
     "data": {
      "image/png": "[encoded data removed]",
      "text/plain": [
       "<Figure size 1000x600 with 2 Axes>"
      ]
     },
     "metadata": {},
     "output_type": "display_data"
    }
   ],
   "source": [
    "plt.figure(figsize=(10,6))\n",
    "sns.heatmap(w_cor,annot=True,cmap='Blues')"
   ]
  },
  {
   "cell_type": "markdown",
   "metadata": {},
   "source": [
    "## 문제 5: 단순 선형 회귀분석\n",
    "\n",
    "### 설명\n",
    "\n",
    "`statsmodels` 라이브러리의 `ols` 함수를 사용하여 단순 선형 회귀분석을 실시합니다. 이는 종속 변수와 단일 독립 변수 간의 관계를 모델링합니다.\n",
    "\n",
    "\n",
    "먼저 가장 높은 상관관계를 가지는 egg_weight를 가지고 단순 선형 회귀분석을 합니다.\n",
    "\n",
    "<span style=\"color:red\">가장 높은 상관관계를 가지는 변수를 가지고 선형 회귀 분석을 합니다</span>\n",
    "\n",
    "\n",
    "### 목표\n",
    "\n",
    "<span style=\"color:red\">가장 높은 상관관계 변수로 단순 선형 회귀</span>\n",
    "\n",
    "`statsmodels`의 `ols` 함수를 사용하여 단순 선형 회귀 모델을 구축하고, 결과를 출력하십시오. 종속 변수는 `weight`, 독립 변수는 <span style=\"color:red\">가장 높은 상관관계 변수 선택</span>하여 진행"
   ]
  },
  {
   "cell_type": "code",
   "execution_count": 7,
   "metadata": {},
   "outputs": [
    {
     "data": {
      "text/html": [
       "<table class=\"simpletable\">\n",
       "<caption>OLS Regression Results</caption>\n",
       "<tr>\n",
       "  <th>Dep. Variable:</th>         <td>weight</td>      <th>  R-squared:         </th> <td>   0.916</td>\n",
       "</tr>\n",
       "<tr>\n",
       "  <th>Model:</th>                   <td>OLS</td>       <th>  Adj. R-squared:    </th> <td>   0.913</td>\n",
       "</tr>\n",
       "<tr>\n",
       "  <th>Method:</th>             <td>Least Squares</td>  <th>  F-statistic:       </th> <td>   306.0</td>\n",
       "</tr>\n",
       "<tr>\n",
       "  <th>Date:</th>             <td>Tue, 02 Jul 2024</td> <th>  Prob (F-statistic):</th> <td>1.32e-16</td>\n",
       "</tr>\n",
       "<tr>\n",
       "  <th>Time:</th>                 <td>10:28:01</td>     <th>  Log-Likelihood:    </th> <td> -63.148</td>\n",
       "</tr>\n",
       "<tr>\n",
       "  <th>No. Observations:</th>      <td>    30</td>      <th>  AIC:               </th> <td>   130.3</td>\n",
       "</tr>\n",
       "<tr>\n",
       "  <th>Df Residuals:</th>          <td>    28</td>      <th>  BIC:               </th> <td>   133.1</td>\n",
       "</tr>\n",
       "<tr>\n",
       "  <th>Df Model:</th>              <td>     1</td>      <th>                     </th>     <td> </td>   \n",
       "</tr>\n",
       "<tr>\n",
       "  <th>Covariance Type:</th>      <td>nonrobust</td>    <th>                     </th>     <td> </td>   \n",
       "</tr>\n",
       "</table>\n",
       "<table class=\"simpletable\">\n",
       "<tr>\n",
       "       <td></td>         <th>coef</th>     <th>std err</th>      <th>t</th>      <th>P>|t|</th>  <th>[0.025</th>    <th>0.975]</th>  \n",
       "</tr>\n",
       "<tr>\n",
       "  <th>Intercept</th>  <td>  -14.5475</td> <td>    8.705</td> <td>   -1.671</td> <td> 0.106</td> <td>  -32.380</td> <td>    3.285</td>\n",
       "</tr>\n",
       "<tr>\n",
       "  <th>egg_weight</th> <td>    2.3371</td> <td>    0.134</td> <td>   17.493</td> <td> 0.000</td> <td>    2.063</td> <td>    2.611</td>\n",
       "</tr>\n",
       "</table>\n",
       "<table class=\"simpletable\">\n",
       "<tr>\n",
       "  <th>Omnibus:</th>       <td>15.078</td> <th>  Durbin-Watson:     </th> <td>   1.998</td>\n",
       "</tr>\n",
       "<tr>\n",
       "  <th>Prob(Omnibus):</th> <td> 0.001</td> <th>  Jarque-Bera (JB):  </th> <td>   2.750</td>\n",
       "</tr>\n",
       "<tr>\n",
       "  <th>Skew:</th>          <td> 0.032</td> <th>  Prob(JB):          </th> <td>   0.253</td>\n",
       "</tr>\n",
       "<tr>\n",
       "  <th>Kurtosis:</th>      <td> 1.518</td> <th>  Cond. No.          </th> <td>1.51e+03</td>\n",
       "</tr>\n",
       "</table><br/><br/>Notes:<br/>[1] Standard Errors assume that the covariance matrix of the errors is correctly specified.<br/>[2] The condition number is large, 1.51e+03. This might indicate that there are<br/>strong multicollinearity or other numerical problems."
      ],
      "text/latex": [
       "\\begin{center}\n",
       "\\begin{tabular}{lclc}\n",
       "\\toprule\n",
       "\\textbf{Dep. Variable:}    &      weight      & \\textbf{  R-squared:         } &     0.916   \\\\\n",
       "\\textbf{Model:}            &       OLS        & \\textbf{  Adj. R-squared:    } &     0.913   \\\\\n",
       "\\textbf{Method:}           &  Least Squares   & \\textbf{  F-statistic:       } &     306.0   \\\\\n",
       "\\textbf{Date:}             & Tue, 02 Jul 2024 & \\textbf{  Prob (F-statistic):} &  1.32e-16   \\\\\n",
       "\\textbf{Time:}             &     10:28:01     & \\textbf{  Log-Likelihood:    } &   -63.148   \\\\\n",
       "\\textbf{No. Observations:} &          30      & \\textbf{  AIC:               } &     130.3   \\\\\n",
       "\\textbf{Df Residuals:}     &          28      & \\textbf{  BIC:               } &     133.1   \\\\\n",
       "\\textbf{Df Model:}         &           1      & \\textbf{                     } &             \\\\\n",
       "\\textbf{Covariance Type:}  &    nonrobust     & \\textbf{                     } &             \\\\\n",
       "\\bottomrule\n",
       "\\end{tabular}\n",
       "\\begin{tabular}{lcccccc}\n",
       "                     & \\textbf{coef} & \\textbf{std err} & \\textbf{t} & \\textbf{P$> |$t$|$} & \\textbf{[0.025} & \\textbf{0.975]}  \\\\\n",
       "\\midrule\n",
       "\\textbf{Intercept}   &     -14.5475  &        8.705     &    -1.671  &         0.106        &      -32.380    &        3.285     \\\\\n",
       "\\textbf{egg\\_weight} &       2.3371  &        0.134     &    17.493  &         0.000        &        2.063    &        2.611     \\\\\n",
       "\\bottomrule\n",
       "\\end{tabular}\n",
       "\\begin{tabular}{lclc}\n",
       "\\textbf{Omnibus:}       & 15.078 & \\textbf{  Durbin-Watson:     } &    1.998  \\\\\n",
       "\\textbf{Prob(Omnibus):} &  0.001 & \\textbf{  Jarque-Bera (JB):  } &    2.750  \\\\\n",
       "\\textbf{Skew:}          &  0.032 & \\textbf{  Prob(JB):          } &    0.253  \\\\\n",
       "\\textbf{Kurtosis:}      &  1.518 & \\textbf{  Cond. No.          } & 1.51e+03  \\\\\n",
       "\\bottomrule\n",
       "\\end{tabular}\n",
       "%\\caption{OLS Regression Results}\n",
       "\\end{center}\n",
       "\n",
       "Notes: \\newline\n",
       " [1] Standard Errors assume that the covariance matrix of the errors is correctly specified. \\newline\n",
       " [2] The condition number is large, 1.51e+03. This might indicate that there are \\newline\n",
       " strong multicollinearity or other numerical problems."
      ],
      "text/plain": [
       "<class 'statsmodels.iolib.summary.Summary'>\n",
       "\"\"\"\n",
       "                            OLS Regression Results                            \n",
       "==============================================================================\n",
       "Dep. Variable:                 weight   R-squared:                       0.916\n",
       "Model:                            OLS   Adj. R-squared:                  0.913\n",
       "Method:                 Least Squares   F-statistic:                     306.0\n",
       "Date:                Tue, 02 Jul 2024   Prob (F-statistic):           1.32e-16\n",
       "Time:                        10:28:01   Log-Likelihood:                -63.148\n",
       "No. Observations:                  30   AIC:                             130.3\n",
       "Df Residuals:                      28   BIC:                             133.1\n",
       "Df Model:                           1                                         \n",
       "Covariance Type:            nonrobust                                         \n",
       "==============================================================================\n",
       "                 coef    std err          t      P>|t|      [0.025      0.975]\n",
       "------------------------------------------------------------------------------\n",
       "Intercept    -14.5475      8.705     -1.671      0.106     -32.380       3.285\n",
       "egg_weight     2.3371      0.134     17.493      0.000       2.063       2.611\n",
       "==============================================================================\n",
       "Omnibus:                       15.078   Durbin-Watson:                   1.998\n",
       "Prob(Omnibus):                  0.001   Jarque-Bera (JB):                2.750\n",
       "Skew:                           0.032   Prob(JB):                        0.253\n",
       "Kurtosis:                       1.518   Cond. No.                     1.51e+03\n",
       "==============================================================================\n",
       "\n",
       "Notes:\n",
       "[1] Standard Errors assume that the covariance matrix of the errors is correctly specified.\n",
       "[2] The condition number is large, 1.51e+03. This might indicate that there are\n",
       "strong multicollinearity or other numerical problems.\n",
       "\"\"\""
      ]
     },
     "execution_count": 7,
     "metadata": {},
     "output_type": "execute_result"
    }
   ],
   "source": [
    "# 여기에 문제 5의 코드를 작성하세요.\n",
    "import statsmodels.formula.api as smf\n",
    "# 단순 선형 회귀 모델 구축\n",
    "model_lm = smf.ols(formula= 'weight ~ egg_weight', data=w_n)\n",
    "# 모델 학습\n",
    "\n",
    "# 모델 결과 확인\n",
    "result_lm = model_lm.fit()\n",
    "result_lm.summary()"
   ]
  },
  {
   "cell_type": "markdown",
   "metadata": {},
   "source": [
    "## 문제 6: 단순 선형 회귀분석 결과 시각화\n",
    "\n",
    "### 설명\n",
    "\n",
    "회귀분석 결과를 시각화하여 회귀 직선을 추가합니다. 이는 모델이 데이터를 얼마나 잘 설명하는지 시각적으로 평가할 수 있게 합니다.\n",
    "\n",
    "### 목표\n",
    "\n",
    "1. `matplotlib`을 사용하여 산점도를 그리십시오. x축은 `egg_weight`, y축은 `weight`입니다.\n",
    "2. 회귀 직선을 산점도 위에 추가하십시오. 회귀 모델의 식을 그래프에 텍스트로 표시하십시오."
   ]
  },
  {
   "cell_type": "code",
   "execution_count": 8,
   "metadata": {},
   "outputs": [
    {
     "data": {
      "text/plain": [
       "[<matplotlib.lines.Line2D at 0x24616269a30>]"
      ]
     },
     "execution_count": 8,
     "metadata": {},
     "output_type": "execute_result"
    },
    {
     "data": {
      "image/png": "[encoded data removed]",
      "text/plain": [
       "<Figure size 1000x600 with 1 Axes>"
      ]
     },
     "metadata": {},
     "output_type": "display_data"
    }
   ],
   "source": [
    "# 여기에 문제 6의 코드를 작성하세요.\n",
    "# 산점도 및 회귀 직선 그리기\n",
    "plt.figure(figsize=(10,6))\n",
    "plt.scatter(g.egg_weight, g.weight, alpha=0.5)\n",
    "plt.plot(g.egg_weight, g.egg_weight*2.3371 - 14.5475, color = 'red')"
   ]
  },
  {
   "cell_type": "markdown",
   "metadata": {},
   "source": [
    "## 문제 7: 다중 회귀분석\n",
    "\n",
    "### 설명\n",
    "\n",
    "여러 독립 변수를 사용하여 다중 회귀분석을 실시합니다. 이는 종속 변수와 여러 독립 변수 간의 관계를 모델링합니다.\n",
    "\n",
    "### 목표\n",
    "\n",
    "`statsmodels`의 `ols` 함수를 사용하여 다중 회귀 모델을 구축하고, 결과를 출력하십시오. 종속 변수는 `weight`, 독립 변수는 `egg_weight`, `food`, `movement`입니다."
   ]
  },
  {
   "cell_type": "code",
   "execution_count": 9,
   "metadata": {},
   "outputs": [
    {
     "data": {
      "text/html": [
       "<table class=\"simpletable\">\n",
       "<caption>OLS Regression Results</caption>\n",
       "<tr>\n",
       "  <th>Dep. Variable:</th>         <td>weight</td>      <th>  R-squared:         </th> <td>   0.948</td>\n",
       "</tr>\n",
       "<tr>\n",
       "  <th>Model:</th>                   <td>OLS</td>       <th>  Adj. R-squared:    </th> <td>   0.942</td>\n",
       "</tr>\n",
       "<tr>\n",
       "  <th>Method:</th>             <td>Least Squares</td>  <th>  F-statistic:       </th> <td>   157.7</td>\n",
       "</tr>\n",
       "<tr>\n",
       "  <th>Date:</th>             <td>Tue, 02 Jul 2024</td> <th>  Prob (F-statistic):</th> <td>8.46e-17</td>\n",
       "</tr>\n",
       "<tr>\n",
       "  <th>Time:</th>                 <td>10:28:02</td>     <th>  Log-Likelihood:    </th> <td> -56.008</td>\n",
       "</tr>\n",
       "<tr>\n",
       "  <th>No. Observations:</th>      <td>    30</td>      <th>  AIC:               </th> <td>   120.0</td>\n",
       "</tr>\n",
       "<tr>\n",
       "  <th>Df Residuals:</th>          <td>    26</td>      <th>  BIC:               </th> <td>   125.6</td>\n",
       "</tr>\n",
       "<tr>\n",
       "  <th>Df Model:</th>              <td>     3</td>      <th>                     </th>     <td> </td>   \n",
       "</tr>\n",
       "<tr>\n",
       "  <th>Covariance Type:</th>      <td>nonrobust</td>    <th>                     </th>     <td> </td>   \n",
       "</tr>\n",
       "</table>\n",
       "<table class=\"simpletable\">\n",
       "<tr>\n",
       "       <td></td>         <th>coef</th>     <th>std err</th>      <th>t</th>      <th>P>|t|</th>  <th>[0.025</th>    <th>0.975]</th>  \n",
       "</tr>\n",
       "<tr>\n",
       "  <th>Intercept</th>  <td>    2.9748</td> <td>    8.587</td> <td>    0.346</td> <td> 0.732</td> <td>  -14.676</td> <td>   20.626</td>\n",
       "</tr>\n",
       "<tr>\n",
       "  <th>egg_weight</th> <td>    1.7763</td> <td>    0.195</td> <td>    9.117</td> <td> 0.000</td> <td>    1.376</td> <td>    2.177</td>\n",
       "</tr>\n",
       "<tr>\n",
       "  <th>food</th>       <td>    1.5847</td> <td>    0.405</td> <td>    3.915</td> <td> 0.001</td> <td>    0.753</td> <td>    2.417</td>\n",
       "</tr>\n",
       "<tr>\n",
       "  <th>movement</th>   <td>   -0.0087</td> <td>    0.017</td> <td>   -0.522</td> <td> 0.606</td> <td>   -0.043</td> <td>    0.026</td>\n",
       "</tr>\n",
       "</table>\n",
       "<table class=\"simpletable\">\n",
       "<tr>\n",
       "  <th>Omnibus:</th>       <td> 1.993</td> <th>  Durbin-Watson:     </th> <td>   2.030</td>\n",
       "</tr>\n",
       "<tr>\n",
       "  <th>Prob(Omnibus):</th> <td> 0.369</td> <th>  Jarque-Bera (JB):  </th> <td>   1.746</td>\n",
       "</tr>\n",
       "<tr>\n",
       "  <th>Skew:</th>          <td>-0.480</td> <th>  Prob(JB):          </th> <td>   0.418</td>\n",
       "</tr>\n",
       "<tr>\n",
       "  <th>Kurtosis:</th>      <td> 2.311</td> <th>  Cond. No.          </th> <td>4.31e+03</td>\n",
       "</tr>\n",
       "</table><br/><br/>Notes:<br/>[1] Standard Errors assume that the covariance matrix of the errors is correctly specified.<br/>[2] The condition number is large, 4.31e+03. This might indicate that there are<br/>strong multicollinearity or other numerical problems."
      ],
      "text/latex": [
       "\\begin{center}\n",
       "\\begin{tabular}{lclc}\n",
       "\\toprule\n",
       "\\textbf{Dep. Variable:}    &      weight      & \\textbf{  R-squared:         } &     0.948   \\\\\n",
       "\\textbf{Model:}            &       OLS        & \\textbf{  Adj. R-squared:    } &     0.942   \\\\\n",
       "\\textbf{Method:}           &  Least Squares   & \\textbf{  F-statistic:       } &     157.7   \\\\\n",
       "\\textbf{Date:}             & Tue, 02 Jul 2024 & \\textbf{  Prob (F-statistic):} &  8.46e-17   \\\\\n",
       "\\textbf{Time:}             &     10:28:02     & \\textbf{  Log-Likelihood:    } &   -56.008   \\\\\n",
       "\\textbf{No. Observations:} &          30      & \\textbf{  AIC:               } &     120.0   \\\\\n",
       "\\textbf{Df Residuals:}     &          26      & \\textbf{  BIC:               } &     125.6   \\\\\n",
       "\\textbf{Df Model:}         &           3      & \\textbf{                     } &             \\\\\n",
       "\\textbf{Covariance Type:}  &    nonrobust     & \\textbf{                     } &             \\\\\n",
       "\\bottomrule\n",
       "\\end{tabular}\n",
       "\\begin{tabular}{lcccccc}\n",
       "                     & \\textbf{coef} & \\textbf{std err} & \\textbf{t} & \\textbf{P$> |$t$|$} & \\textbf{[0.025} & \\textbf{0.975]}  \\\\\n",
       "\\midrule\n",
       "\\textbf{Intercept}   &       2.9748  &        8.587     &     0.346  &         0.732        &      -14.676    &       20.626     \\\\\n",
       "\\textbf{egg\\_weight} &       1.7763  &        0.195     &     9.117  &         0.000        &        1.376    &        2.177     \\\\\n",
       "\\textbf{food}        &       1.5847  &        0.405     &     3.915  &         0.001        &        0.753    &        2.417     \\\\\n",
       "\\textbf{movement}    &      -0.0087  &        0.017     &    -0.522  &         0.606        &       -0.043    &        0.026     \\\\\n",
       "\\bottomrule\n",
       "\\end{tabular}\n",
       "\\begin{tabular}{lclc}\n",
       "\\textbf{Omnibus:}       &  1.993 & \\textbf{  Durbin-Watson:     } &    2.030  \\\\\n",
       "\\textbf{Prob(Omnibus):} &  0.369 & \\textbf{  Jarque-Bera (JB):  } &    1.746  \\\\\n",
       "\\textbf{Skew:}          & -0.480 & \\textbf{  Prob(JB):          } &    0.418  \\\\\n",
       "\\textbf{Kurtosis:}      &  2.311 & \\textbf{  Cond. No.          } & 4.31e+03  \\\\\n",
       "\\bottomrule\n",
       "\\end{tabular}\n",
       "%\\caption{OLS Regression Results}\n",
       "\\end{center}\n",
       "\n",
       "Notes: \\newline\n",
       " [1] Standard Errors assume that the covariance matrix of the errors is correctly specified. \\newline\n",
       " [2] The condition number is large, 4.31e+03. This might indicate that there are \\newline\n",
       " strong multicollinearity or other numerical problems."
      ],
      "text/plain": [
       "<class 'statsmodels.iolib.summary.Summary'>\n",
       "\"\"\"\n",
       "                            OLS Regression Results                            \n",
       "==============================================================================\n",
       "Dep. Variable:                 weight   R-squared:                       0.948\n",
       "Model:                            OLS   Adj. R-squared:                  0.942\n",
       "Method:                 Least Squares   F-statistic:                     157.7\n",
       "Date:                Tue, 02 Jul 2024   Prob (F-statistic):           8.46e-17\n",
       "Time:                        10:28:02   Log-Likelihood:                -56.008\n",
       "No. Observations:                  30   AIC:                             120.0\n",
       "Df Residuals:                      26   BIC:                             125.6\n",
       "Df Model:                           3                                         \n",
       "Covariance Type:            nonrobust                                         \n",
       "==============================================================================\n",
       "                 coef    std err          t      P>|t|      [0.025      0.975]\n",
       "------------------------------------------------------------------------------\n",
       "Intercept      2.9748      8.587      0.346      0.732     -14.676      20.626\n",
       "egg_weight     1.7763      0.195      9.117      0.000       1.376       2.177\n",
       "food           1.5847      0.405      3.915      0.001       0.753       2.417\n",
       "movement      -0.0087      0.017     -0.522      0.606      -0.043       0.026\n",
       "==============================================================================\n",
       "Omnibus:                        1.993   Durbin-Watson:                   2.030\n",
       "Prob(Omnibus):                  0.369   Jarque-Bera (JB):                1.746\n",
       "Skew:                          -0.480   Prob(JB):                        0.418\n",
       "Kurtosis:                       2.311   Cond. No.                     4.31e+03\n",
       "==============================================================================\n",
       "\n",
       "Notes:\n",
       "[1] Standard Errors assume that the covariance matrix of the errors is correctly specified.\n",
       "[2] The condition number is large, 4.31e+03. This might indicate that there are\n",
       "strong multicollinearity or other numerical problems.\n",
       "\"\"\""
      ]
     },
     "execution_count": 9,
     "metadata": {},
     "output_type": "execute_result"
    }
   ],
   "source": [
    "# 여기에 문제 7의 코드를 작성하세요.\n",
    "# 다중 회귀 분석 모델 구축\n",
    "model_mlm = smf.ols(formula='weight ~ egg_weight + food + movement',data= w_n)\n",
    "\n",
    "result_mlm = model_mlm.fit()\n",
    "result_mlm.summary()\n",
    "# 다중 회귀 분석 결과 확인\n"
   ]
  },
  {
   "cell_type": "code",
   "execution_count": 10,
   "metadata": {},
   "outputs": [
    {
     "data": {
      "text/html": [
       "<table class=\"simpletable\">\n",
       "<caption>OLS Regression Results</caption>\n",
       "<tr>\n",
       "  <th>Dep. Variable:</th>         <td>weight</td>      <th>  R-squared:         </th> <td>   0.947</td>\n",
       "</tr>\n",
       "<tr>\n",
       "  <th>Model:</th>                   <td>OLS</td>       <th>  Adj. R-squared:    </th> <td>   0.943</td>\n",
       "</tr>\n",
       "<tr>\n",
       "  <th>Method:</th>             <td>Least Squares</td>  <th>  F-statistic:       </th> <td>   243.0</td>\n",
       "</tr>\n",
       "<tr>\n",
       "  <th>Date:</th>             <td>Tue, 02 Jul 2024</td> <th>  Prob (F-statistic):</th> <td>5.44e-18</td>\n",
       "</tr>\n",
       "<tr>\n",
       "  <th>Time:</th>                 <td>10:28:02</td>     <th>  Log-Likelihood:    </th> <td> -56.164</td>\n",
       "</tr>\n",
       "<tr>\n",
       "  <th>No. Observations:</th>      <td>    30</td>      <th>  AIC:               </th> <td>   118.3</td>\n",
       "</tr>\n",
       "<tr>\n",
       "  <th>Df Residuals:</th>          <td>    27</td>      <th>  BIC:               </th> <td>   122.5</td>\n",
       "</tr>\n",
       "<tr>\n",
       "  <th>Df Model:</th>              <td>     2</td>      <th>                     </th>     <td> </td>   \n",
       "</tr>\n",
       "<tr>\n",
       "  <th>Covariance Type:</th>      <td>nonrobust</td>    <th>                     </th>     <td> </td>   \n",
       "</tr>\n",
       "</table>\n",
       "<table class=\"simpletable\">\n",
       "<tr>\n",
       "       <td></td>         <th>coef</th>     <th>std err</th>      <th>t</th>      <th>P>|t|</th>  <th>[0.025</th>    <th>0.975]</th>  \n",
       "</tr>\n",
       "<tr>\n",
       "  <th>Intercept</th>  <td>    3.6638</td> <td>    8.370</td> <td>    0.438</td> <td> 0.665</td> <td>  -13.510</td> <td>   20.837</td>\n",
       "</tr>\n",
       "<tr>\n",
       "  <th>egg_weight</th> <td>    1.7453</td> <td>    0.183</td> <td>    9.536</td> <td> 0.000</td> <td>    1.370</td> <td>    2.121</td>\n",
       "</tr>\n",
       "<tr>\n",
       "  <th>food</th>       <td>    1.5955</td> <td>    0.399</td> <td>    4.001</td> <td> 0.000</td> <td>    0.777</td> <td>    2.414</td>\n",
       "</tr>\n",
       "</table>\n",
       "<table class=\"simpletable\">\n",
       "<tr>\n",
       "  <th>Omnibus:</th>       <td> 2.302</td> <th>  Durbin-Watson:     </th> <td>   2.103</td>\n",
       "</tr>\n",
       "<tr>\n",
       "  <th>Prob(Omnibus):</th> <td> 0.316</td> <th>  Jarque-Bera (JB):  </th> <td>   1.940</td>\n",
       "</tr>\n",
       "<tr>\n",
       "  <th>Skew:</th>          <td>-0.502</td> <th>  Prob(JB):          </th> <td>   0.379</td>\n",
       "</tr>\n",
       "<tr>\n",
       "  <th>Kurtosis:</th>      <td> 2.263</td> <th>  Cond. No.          </th> <td>1.84e+03</td>\n",
       "</tr>\n",
       "</table><br/><br/>Notes:<br/>[1] Standard Errors assume that the covariance matrix of the errors is correctly specified.<br/>[2] The condition number is large, 1.84e+03. This might indicate that there are<br/>strong multicollinearity or other numerical problems."
      ],
      "text/latex": [
       "\\begin{center}\n",
       "\\begin{tabular}{lclc}\n",
       "\\toprule\n",
       "\\textbf{Dep. Variable:}    &      weight      & \\textbf{  R-squared:         } &     0.947   \\\\\n",
       "\\textbf{Model:}            &       OLS        & \\textbf{  Adj. R-squared:    } &     0.943   \\\\\n",
       "\\textbf{Method:}           &  Least Squares   & \\textbf{  F-statistic:       } &     243.0   \\\\\n",
       "\\textbf{Date:}             & Tue, 02 Jul 2024 & \\textbf{  Prob (F-statistic):} &  5.44e-18   \\\\\n",
       "\\textbf{Time:}             &     10:28:02     & \\textbf{  Log-Likelihood:    } &   -56.164   \\\\\n",
       "\\textbf{No. Observations:} &          30      & \\textbf{  AIC:               } &     118.3   \\\\\n",
       "\\textbf{Df Residuals:}     &          27      & \\textbf{  BIC:               } &     122.5   \\\\\n",
       "\\textbf{Df Model:}         &           2      & \\textbf{                     } &             \\\\\n",
       "\\textbf{Covariance Type:}  &    nonrobust     & \\textbf{                     } &             \\\\\n",
       "\\bottomrule\n",
       "\\end{tabular}\n",
       "\\begin{tabular}{lcccccc}\n",
       "                     & \\textbf{coef} & \\textbf{std err} & \\textbf{t} & \\textbf{P$> |$t$|$} & \\textbf{[0.025} & \\textbf{0.975]}  \\\\\n",
       "\\midrule\n",
       "\\textbf{Intercept}   &       3.6638  &        8.370     &     0.438  &         0.665        &      -13.510    &       20.837     \\\\\n",
       "\\textbf{egg\\_weight} &       1.7453  &        0.183     &     9.536  &         0.000        &        1.370    &        2.121     \\\\\n",
       "\\textbf{food}        &       1.5955  &        0.399     &     4.001  &         0.000        &        0.777    &        2.414     \\\\\n",
       "\\bottomrule\n",
       "\\end{tabular}\n",
       "\\begin{tabular}{lclc}\n",
       "\\textbf{Omnibus:}       &  2.302 & \\textbf{  Durbin-Watson:     } &    2.103  \\\\\n",
       "\\textbf{Prob(Omnibus):} &  0.316 & \\textbf{  Jarque-Bera (JB):  } &    1.940  \\\\\n",
       "\\textbf{Skew:}          & -0.502 & \\textbf{  Prob(JB):          } &    0.379  \\\\\n",
       "\\textbf{Kurtosis:}      &  2.263 & \\textbf{  Cond. No.          } & 1.84e+03  \\\\\n",
       "\\bottomrule\n",
       "\\end{tabular}\n",
       "%\\caption{OLS Regression Results}\n",
       "\\end{center}\n",
       "\n",
       "Notes: \\newline\n",
       " [1] Standard Errors assume that the covariance matrix of the errors is correctly specified. \\newline\n",
       " [2] The condition number is large, 1.84e+03. This might indicate that there are \\newline\n",
       " strong multicollinearity or other numerical problems."
      ],
      "text/plain": [
       "<class 'statsmodels.iolib.summary.Summary'>\n",
       "\"\"\"\n",
       "                            OLS Regression Results                            \n",
       "==============================================================================\n",
       "Dep. Variable:                 weight   R-squared:                       0.947\n",
       "Model:                            OLS   Adj. R-squared:                  0.943\n",
       "Method:                 Least Squares   F-statistic:                     243.0\n",
       "Date:                Tue, 02 Jul 2024   Prob (F-statistic):           5.44e-18\n",
       "Time:                        10:28:02   Log-Likelihood:                -56.164\n",
       "No. Observations:                  30   AIC:                             118.3\n",
       "Df Residuals:                      27   BIC:                             122.5\n",
       "Df Model:                           2                                         \n",
       "Covariance Type:            nonrobust                                         \n",
       "==============================================================================\n",
       "                 coef    std err          t      P>|t|      [0.025      0.975]\n",
       "------------------------------------------------------------------------------\n",
       "Intercept      3.6638      8.370      0.438      0.665     -13.510      20.837\n",
       "egg_weight     1.7453      0.183      9.536      0.000       1.370       2.121\n",
       "food           1.5955      0.399      4.001      0.000       0.777       2.414\n",
       "==============================================================================\n",
       "Omnibus:                        2.302   Durbin-Watson:                   2.103\n",
       "Prob(Omnibus):                  0.316   Jarque-Bera (JB):                1.940\n",
       "Skew:                          -0.502   Prob(JB):                        0.379\n",
       "Kurtosis:                       2.263   Cond. No.                     1.84e+03\n",
       "==============================================================================\n",
       "\n",
       "Notes:\n",
       "[1] Standard Errors assume that the covariance matrix of the errors is correctly specified.\n",
       "[2] The condition number is large, 1.84e+03. This might indicate that there are\n",
       "strong multicollinearity or other numerical problems.\n",
       "\"\"\""
      ]
     },
     "execution_count": 10,
     "metadata": {},
     "output_type": "execute_result"
    }
   ],
   "source": [
    "model_mlm2 = smf.ols(formula='weight ~ egg_weight + food',data= w_n)\n",
    "\n",
    "result_mlm2 = model_mlm2.fit()\n",
    "result_mlm2.summary()"
   ]
  },
  {
   "cell_type": "markdown",
   "metadata": {},
   "source": [
    "## 문제 8: 다중 공선성 확인\n",
    "\n",
    "### 설명\n",
    "\n",
    "독립 변수 간의 다중 공선성 문제를 확인하기 위해 분산 팽창 요인(VIF)을 계산합니다. 높은 VIF 값은 다중 공선성 문제를 나타내며, 모델의 신뢰성을 저하시킬 수 있습니다.\n",
    "\n",
    "### 목표\n",
    "\n",
    "`statsmodels`의 `variance_inflation_factor` 함수를 사용하여 각 독립 변수의 VIF 값을 계산하고 출력하십시오."
   ]
  },
  {
   "cell_type": "code",
   "execution_count": 11,
   "metadata": {},
   "outputs": [
    {
     "name": "stdout",
     "output_type": "stream",
     "text": [
      "['Intercept', 'egg_weight', 'food', 'movement']\n",
      "3.17905940457344 2.8901633412791043\n"
     ]
    }
   ],
   "source": [
    "# 여기에 문제 8의 코드를 작성하세요.\n",
    "from statsmodels.stats.outliers_influence import variance_inflation_factor\n",
    "\n",
    "# 회귀 모델 변수 명 속성 확인\n",
    "print(model_mlm.exog_names)\n",
    "\n",
    "# 1번째 변수 (egg_weight) VIF 계산\n",
    "vif1 = variance_inflation_factor(model_mlm.exog, 1)\n",
    "\n",
    "# 2번째 변수 (food) VIF 계산\n",
    "vif2 = variance_inflation_factor(model_mlm.exog, 2)\n",
    "\n",
    "print(vif1, vif2)"
   ]
  },
  {
   "cell_type": "markdown",
   "metadata": {},
   "source": [
    "## 문제 9: 다중 회귀분석 결과 시각화\n",
    "\n",
    "### 설명\n",
    "\n",
    "잔차(residual)의 히스토그램을 그려서 모델의 성능을 평가합니다. 잔차가 정규분포를 따른다면 모델이 데이터를 잘 설명한다고 할 수 있습니다.\n",
    "\n",
    "### 목표\n",
    "\n",
    "1. `matplotlib`을 사용하여 잔차의 히스토그램을 그리십시오.\n",
    "2. 히스토그램의 x축에는 잔차 값, y축에는 빈도를 표시하십시오."
   ]
  },
  {
   "cell_type": "code",
   "execution_count": 12,
   "metadata": {},
   "outputs": [
    {
     "data": {
      "image/png": "[encoded data removed]",
      "text/plain": [
       "<Figure size 1000x600 with 1 Axes>"
      ]
     },
     "metadata": {},
     "output_type": "display_data"
    }
   ],
   "source": [
    "# 여기에 문제 9의 코드를 작성하세요.\n",
    "# 잔차 히스토그램 그리기\n",
    "plt.figure(figsize=(10, 6))\n",
    "plt.hist(result_mlm.resid, bins=7)\n",
    "plt.show()"
   ]
  }
 ],
 "metadata": {
  "kernelspec": {
   "display_name": "Python 3",
   "language": "python",
   "name": "python3"
  },
  "language_info": {
   "codemirror_mode": {
    "name": "ipython",
    "version": 3
   },
   "file_extension": ".py",
   "mimetype": "text/x-python",
   "name": "python",
   "nbconvert_exporter": "python",
   "pygments_lexer": "ipython3",
   "version": "3.12.4"
  }
 },
 "nbformat": 4,
 "nbformat_minor": 4
}
