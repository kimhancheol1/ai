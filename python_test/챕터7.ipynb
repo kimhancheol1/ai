{
 "cells": [
  {
   "cell_type": "markdown",
   "metadata": {},
   "source": [
    "# 7장 행렬"
   ]
  },
  {
   "cell_type": "markdown",
   "metadata": {},
   "source": [
    "행렬을 이용한 데이터 표현\n",
    "- 딥러닝 관련 코드 분석할 때 모델로 입출력 되는 데이터가 어떤 모양인지 정확히 파악해야한다. "
   ]
  },
  {
   "cell_type": "code",
   "execution_count": 2,
   "metadata": {},
   "outputs": [
    {
     "name": "stdout",
     "output_type": "stream",
     "text": [
      "(256, 272, 4)\n"
     ]
    },
    {
     "data": {
      "image/png": "[encoded data removed]",
      "text/plain": [
       "<Figure size 1500x700 with 4 Axes>"
      ]
     },
     "metadata": {},
     "output_type": "display_data"
    }
   ],
   "source": [
    "import numpy as np\n",
    "import matplotlib.pyplot as plt\n",
    "\n",
    "im = plt.imread(\"old_python.png\")\n",
    "print(im.shape)\n",
    "\n",
    "\n",
    "R = im[:,:,0];G = im[:,:,1];B = im[:,:,2];A = im[:,:,3];\n",
    "fig = plt.figure(figsize=(15,7))\n",
    "ax1 = fig.add_subplot(1,4,1)\n",
    "ax2 = fig.add_subplot(1,4,2)\n",
    "ax3 = fig.add_subplot(1,4,3)\n",
    "ax4 = fig.add_subplot(1,4,4)\n",
    "ax1.imshow(R)\n",
    "ax2.imshow(G)\n",
    "ax3.imshow(B)\n",
    "ax4.imshow(A)\n",
    "plt.show()\n",
    "\n",
    "\n"
   ]
  },
  {
   "cell_type": "markdown",
   "metadata": {},
   "source": [
    "3) 문서\n",
    "\n",
    "문서도 행렬 형태로 전환가능 \n",
    "\n",
    "단어를 숫자로 매핑하면 \n",
    "\n",
    "행렬 형태로 문서 출력이 가능하다."
   ]
  },
  {
   "cell_type": "code",
   "execution_count": 4,
   "metadata": {},
   "outputs": [
    {
     "name": "stdout",
     "output_type": "stream",
     "text": [
      "[[9, 4, 7, 3, 2], [9, 4, 7, 6, 2], [1, 7, 8, 5], [4, 9, 7, 3, 2]]\n"
     ]
    }
   ],
   "source": [
    "docs = [\n",
    "'This is the first document',\n",
    "'This is the second document',\n",
    "'And the third one',\n",
    "'Is this the first document']\n",
    "\n",
    "V = ['', 'and', 'document', 'first', 'is', 'one', 'second', 'the', 'third', 'this']\n",
    "\n",
    "pre_docs = list(map(lambda x : x.lower().split(), docs))\n",
    "pre_docs\n",
    "\n",
    "D = [[V.index(w) for w in doc] for doc in pre_docs ]\n",
    "\n",
    "print(D)\n",
    "\n",
    "N = max([len(doc) for doc in pre_docs])\n"
   ]
  },
  {
   "cell_type": "code",
   "execution_count": 17,
   "metadata": {},
   "outputs": [
    {
     "name": "stdout",
     "output_type": "stream",
     "text": [
      "[[10  4]\n",
      " [ 1 12]]\n",
      "[10 12]\n",
      "(array([0, 1], dtype=int64), array([0, 1], dtype=int64))\n"
     ]
    }
   ],
   "source": [
    "a = np.array([[10,4],[1,12]])\n",
    "print(a)\n",
    "print(a[a>=6])\n",
    "idx = np.where(a>=6)\n",
    "\n",
    "print(idx)"
   ]
  },
  {
   "cell_type": "code",
   "execution_count": 11,
   "metadata": {},
   "outputs": [
    {
     "name": "stdout",
     "output_type": "stream",
     "text": [
      "[[10 46]\n",
      " [ 1 12]\n",
      " [ 3 12]]\n",
      "[10 46 12 12]\n",
      "[(0, 0), (0, 1), (1, 1), (2, 1)]\n"
     ]
    }
   ],
   "source": [
    "import numpy as np\n",
    "\n",
    "a = np.array([[10, 46], [1, 12],[3,12]])\n",
    "print(a)\n",
    "print(a[a >= 6])\n",
    "idx = np.where(a >= 6)\n",
    "\n",
    "# idx를 [row, column] 형태로 변환\n",
    "idx_list = list(zip(idx[0], idx[1]))\n",
    "print(idx_list)\n"
   ]
  },
  {
   "cell_type": "code",
   "execution_count": 9,
   "metadata": {},
   "outputs": [
    {
     "name": "stdout",
     "output_type": "stream",
     "text": [
      "-0.0\n",
      "1\n",
      "2.718281828459045\n"
     ]
    }
   ],
   "source": [
    "import numpy as np\n",
    "\n",
    "def f(x):\n",
    "    if x>0:\n",
    "        return np.exp(x)\n",
    "    elif x==0:\n",
    "        return 1\n",
    "    else:\n",
    "        return -np.log(-x)\n",
    "\n",
    "for x in [-1, 0, 1]:\n",
    "    print(f(x))\n"
   ]
  },
  {
   "cell_type": "code",
   "execution_count": 11,
   "metadata": {},
   "outputs": [
    {
     "name": "stdout",
     "output_type": "stream",
     "text": [
      "144\n"
     ]
    }
   ],
   "source": [
    "def z(x, y):\n",
    "    z=(x+y)**2\n",
    "    return z\n",
    "print(z(6,6))"
   ]
  },
  {
   "cell_type": "code",
   "execution_count": 18,
   "metadata": {},
   "outputs": [
    {
     "name": "stdout",
     "output_type": "stream",
     "text": [
      "23.00999999999931\n"
     ]
    }
   ],
   "source": [
    "def num_derivative(f,x,h=0.01):\n",
    "    return (f(x+h)-f(x))/h\n",
    "f = lambda x: x**2 +3*x\n",
    "x =10\n",
    "\n",
    "derivative = num_derivative(f,x)\n",
    "print(derivative)"
   ]
  },
  {
   "cell_type": "code",
   "execution_count": 54,
   "metadata": {},
   "outputs": [
    {
     "name": "stdout",
     "output_type": "stream",
     "text": [
      "{8*log(2) + 6}\n",
      "8329.31453731102 - 12000.0*log(2)\n"
     ]
    }
   ],
   "source": [
    "import sympy as sp\n",
    "x = sp.symbols('x')\n",
    "f =(x**2+4*x)*sp.log(x)\n",
    "\n",
    "direct_derivative = sp.diff(f,x)\n",
    "\n",
    "print({direct_derivative.subs(x,2)})\n",
    "\n",
    "def num(f, x, h=0.01):\n",
    "    return (f(x+h) - f(x)) / h\n",
    "\n",
    "\n",
    "derivative = num(lambda x: (x**2 + 4*x) * sp.log(x), 2, 0.001)\n",
    "\n",
    "print(derivative)\n"
   ]
  },
  {
   "cell_type": "code",
   "execution_count": null,
   "metadata": {},
   "outputs": [],
   "source": []
  },
  {
   "cell_type": "code",
   "execution_count": 48,
   "metadata": {},
   "outputs": [
    {
     "name": "stdout",
     "output_type": "stream",
     "text": [
      "11.57710893703534\n"
     ]
    }
   ],
   "source": [
    "import numpy as np\n",
    "\n",
    "def num(f, x, h=0.01):\n",
    "    return (f(x+h) - f(x)) / h\n",
    "\n",
    "# math.log를 사용하여 함수 정의\n",
    "derivative = num(lambda x: (x**2 + 4*x) * np.log(x), 2, 0.01)\n",
    "\n",
    "print(derivative)"
   ]
  },
  {
   "cell_type": "code",
   "execution_count": 65,
   "metadata": {},
   "outputs": [
    {
     "name": "stdout",
     "output_type": "stream",
     "text": [
      "직접 미분 값: 8*log(2) + 6\n",
      "수치 미분 값: 83189.2071639527 - 120000.0*log(2)\n"
     ]
    }
   ],
   "source": [
    "import sympy as sp\n",
    "\n",
    "\n",
    "x = sp.symbols('x')\n",
    "f = (x**2 + 4*x) * sp.log(x)\n",
    "\n",
    "# 직접 미분\n",
    "direct_derivative = sp.diff(f, x)\n",
    "direct_value = direct_derivative.subs(x, 2)\n",
    "print(f'직접 미분 값: {direct_value}')\n",
    "\n",
    "# 수치 미분 함수\n",
    "def num(f, x, h=0.01):\n",
    "    return (f(x + h) - f(x)) / h\n",
    "\n",
    "# 수치 미분\n",
    "numerical_derivative = num(lambda x: (x**2 + 4*x) * sp.log(x), 2, 0.0001)\n",
    "print(f'수치 미분 값: {numerical_derivative}')"
   ]
  },
  {
   "cell_type": "code",
   "execution_count": 67,
   "metadata": {},
   "outputs": [
    {
     "name": "stdout",
     "output_type": "stream",
     "text": [
      "직접미분 값: 8*log(2) + 6\n",
      "수치미분 값: 83189.2071639527 - 120000.0*log(2)\n"
     ]
    }
   ],
   "source": [
    "import sympy as sp\n",
    "\n",
    "# 변수 및 함수 정의\n",
    "x = sp.symbols('x')\n",
    "f = (x**2 + 4*x) * sp.log(x)\n",
    "\n",
    "# 직접미분\n",
    "direct_derivative = sp.diff(f, x)\n",
    "direct_value = direct_derivative.subs(x, 2)\n",
    "print(f'직접미분 값: {direct_value}')\n",
    "\n",
    "# 수치미분 함수 정의\n",
    "def num(f, x_val, h=0.01):\n",
    "    return (f.subs(x, x_val + h) - f.subs(x, x_val)) / h\n",
    "\n",
    "# 수치미분 계산\n",
    "numerical_derivative = num(f, 2, 0.0001)\n",
    "print(f'수치미분 값: {numerical_derivative}')"
   ]
  }
 ],
 "metadata": {
  "kernelspec": {
   "display_name": "Python 3",
   "language": "python",
   "name": "python3"
  },
  "language_info": {
   "codemirror_mode": {
    "name": "ipython",
    "version": 3
   },
   "file_extension": ".py",
   "mimetype": "text/x-python",
   "name": "python",
   "nbconvert_exporter": "python",
   "pygments_lexer": "ipython3",
   "version": "3.12.4"
  }
 },
 "nbformat": 4,
 "nbformat_minor": 2
}
