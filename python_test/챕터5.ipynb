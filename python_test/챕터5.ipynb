{
 "cells": [
  {
   "cell_type": "markdown",
   "metadata": {},
   "source": [
    "# 5장 다변수 함수의 도함수"
   ]
  },
  {
   "cell_type": "markdown",
   "metadata": {},
   "source": [
    "z = f(x.y) 변수가 여러개 "
   ]
  },
  {
   "cell_type": "markdown",
   "metadata": {},
   "source": [
    "덧셈의 미분법\n",
    "\n",
    "$\n",
    "\\frac{d}{dx} [f(x) + g(x)] = \\frac{df(x)}{dx} + \\frac{dg(x)}{dx}\n",
    "$\n",
    "\n",
    "뺄셈\n",
    "\n",
    "$\n",
    "\\frac{d}{dx} [f(x) - g(x)] = \\frac{df(x)}{dx} - \\frac{dg(x)}{dx}\n",
    "$\n",
    "\n",
    "곱셈\n",
    "\n",
    "$\n",
    "\\frac{d}{dx} [f(x) \\cdot g(x)] = \\frac{df(x)}{dx} \\cdot g(x) + f(x) \\cdot \\frac{dg(x)}{dx}\n",
    "$\n",
    "\n",
    "나눗셈\n",
    "\n",
    "$\n",
    "\\frac{d}{dx} \\left[\\frac{f(x)}{g(x)}\\right] = \\frac{\\frac{df(x)}{dx} \\cdot g(x) - f(x) \\cdot \\frac{dg(x)}{dx}}{(g(x))^2}\n",
    "$"
   ]
  },
  {
   "cell_type": "markdown",
   "metadata": {},
   "source": [
    "- 다항수 함수의 변화율 \n",
    "ex) z = f()"
   ]
  },
  {
   "cell_type": "markdown",
   "metadata": {},
   "source": [
    "야코비안 행렬"
   ]
  }
 ],
 "metadata": {
  "kernelspec": {
   "display_name": "Python 3",
   "language": "python",
   "name": "python3"
  },
  "language_info": {
   "name": "python",
   "version": "3.12.3"
  }
 },
 "nbformat": 4,
 "nbformat_minor": 2
}
