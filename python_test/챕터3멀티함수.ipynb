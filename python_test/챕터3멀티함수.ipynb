{
 "cells": [
  {
   "cell_type": "markdown",
   "metadata": {},
   "source": [
    "# 입출력이 여러개인 함수"
   ]
  },
  {
   "cell_type": "markdown",
   "metadata": {},
   "source": [
    "일변수 벡터함수 r(t)=(f1(t),f2(t)...)\n",
    "\n",
    "겉은 벡터 안은 함수 형태로 이루어져 있다."
   ]
  },
  {
   "cell_type": "markdown",
   "metadata": {},
   "source": [
    "$\\mathbf{r}(t) = \\begin{pmatrix}\n",
    "x(t) \\\\\n",
    "y(t) \\\\\n",
    "z(t)\n",
    "\\end{pmatrix}\n",
    "= \\begin{pmatrix}\n",
    "\\sin(6t) \\\\\n",
    "\\frac{t}{4} \\\\\n",
    "\\frac{t^2}{2}\n",
    "\\end{pmatrix}$"
   ]
  },
  {
   "cell_type": "markdown",
   "metadata": {},
   "source": [
    "다변수 스칼라함수\n",
    "\n",
    "y = f(**x**)\n",
    "\n",
    "f(x,y) = x+y\n",
    "\n",
    "**v**=(x,y)"
   ]
  },
  {
   "cell_type": "markdown",
   "metadata": {},
   "source": [
    "f(x_1, x_2) = 50 (x_2 - x_1^2)^2 + (2 - x_1)^2"
   ]
  },
  {
   "cell_type": "markdown",
   "metadata": {},
   "source": [
    "$f(\\mathbf{x}) = 50 (x_2 - x_1^2)^2 + (2 - x_1)^2$\n",
    "\n",
    "$\\mathbf{X} = \\begin{pmatrix}\n",
    "x_1 \\\\\n",
    "x_2\n",
    "\\end{pmatrix}^T\n",
    "$"
   ]
  },
  {
   "cell_type": "markdown",
   "metadata": {},
   "source": [
    "자주 만나는 특별한 함수 : 소프트 맥스 함수"
   ]
  },
  {
   "cell_type": "markdown",
   "metadata": {},
   "source": [
    "\n",
    "$s_i(\\mathbf{z}) = \\frac{e^{z_i}}{\\sum_{k=1}^{K} e^{z_k}} \\quad \\text{for } i = 1, \\ldots, K \\quad \\text{and} \\quad \\mathbf{z} = (z_1, \\ldots, z_K) \\in \\mathbb{R}^K$\n"
   ]
  },
  {
   "cell_type": "code",
   "execution_count": 5,
   "metadata": {},
   "outputs": [
    {
     "name": "stdout",
     "output_type": "stream",
     "text": [
      "[0.65900114 0.24243297 0.09856589]\n"
     ]
    }
   ],
   "source": [
    "import numpy as np\n",
    "\n",
    "def softmax(x):\n",
    "    e_x = np.exp(x - np.max(x))  # 오버플로우 방지를 위해 x의 최대값을 빼줍니다\n",
    "    return e_x / e_x.sum(axis=0)  # axis=0은 열을 기준으로 합을 구함. 벡터의 경우 필요 없을 수 있음\n",
    "\n",
    "# 예제 벡터\n",
    "x = np.array([2.0, 1.0, 0.1])\n",
    "print(softmax(x))"
   ]
  },
  {
   "cell_type": "markdown",
   "metadata": {},
   "source": [
    "# 4장 "
   ]
  },
  {
   "cell_type": "markdown",
   "metadata": {},
   "source": [
    "평균변화율은 정확한 정보를 주지 못한다"
   ]
  },
  {
   "cell_type": "code",
   "execution_count": 16,
   "metadata": {},
   "outputs": [
    {
     "name": "stdout",
     "output_type": "stream",
     "text": [
      "f(x)=25 10 5\n",
      "f(x)=25 399.60010000000005 5\n"
     ]
    }
   ],
   "source": [
    "import numpy as np\n",
    "x =5\n",
    "\n",
    "f = lambda x : x**2\n",
    "df = lambda x : 2*x\n",
    "\n",
    "print(\"f(x)={} {} {}\".format(f(x),df(x),x))\n",
    "print(\"f(x)={} {} {}\".format(f(x),f((x+0.01)-f(x)),x))"
   ]
  },
  {
   "cell_type": "code",
   "execution_count": null,
   "metadata": {},
   "outputs": [],
   "source": [
    "import numpy as np\n",
    "x =5\n",
    "\n",
    "f = lambda x : np.exp(x)\n",
    "df = lambda x : 2*x\n",
    "\n",
    "print(\"f(x)={} {} {}\".format(f(x),df(x),x))\n",
    "print(\"f(x)={} {} {}\".format(f(x),f(x+0.01-f(x))/0.01,x))"
   ]
  },
  {
   "cell_type": "markdown",
   "metadata": {},
   "source": [
    "1 평균변화율 : a 와 b 구간사이에서의 변화율 y 변화율/x 변화율\n",
    "\n",
    "2 순간변화율 한점에서의 직선의 기울기 평균 변화율이 거의 같아지는 점에서의 변화율 \n",
    "\n",
    "3 미분계수 한점에서의 순간 변화율\n",
    "\n",
    "4 도함수 함수로 표현되는 수간 변화율"
   ]
  },
  {
   "cell_type": "markdown",
   "metadata": {},
   "source": []
  }
 ],
 "metadata": {
  "kernelspec": {
   "display_name": "Python 3",
   "language": "python",
   "name": "python3"
  },
  "language_info": {
   "codemirror_mode": {
    "name": "ipython",
    "version": 3
   },
   "file_extension": ".py",
   "mimetype": "text/x-python",
   "name": "python",
   "nbconvert_exporter": "python",
   "pygments_lexer": "ipython3",
   "version": "3.12.3"
  }
 },
 "nbformat": 4,
 "nbformat_minor": 2
}
