{
 "cells": [
  {
   "cell_type": "markdown",
   "metadata": {},
   "source": [
    "#1장 파이썬"
   ]
  },
  {
   "cell_type": "code",
   "execution_count": 1,
   "metadata": {},
   "outputs": [
    {
     "name": "stdout",
     "output_type": "stream",
     "text": [
      "hello python\n"
     ]
    }
   ],
   "source": [
    "print(\"hello python\")"
   ]
  },
  {
   "cell_type": "code",
   "execution_count": 2,
   "metadata": {},
   "outputs": [
    {
     "name": "stdout",
     "output_type": "stream",
     "text": [
      "참\n"
     ]
    }
   ],
   "source": [
    "a = True\n",
    "if a == True:\n",
    "    print(\"참\")"
   ]
  },
  {
   "cell_type": "code",
   "execution_count": 3,
   "metadata": {},
   "outputs": [
    {
     "name": "stdout",
     "output_type": "stream",
     "text": [
      "0\n",
      "1\n",
      "2\n",
      "3\n",
      "4\n",
      "5\n",
      "6\n",
      "7\n",
      "8\n",
      "9\n"
     ]
    }
   ],
   "source": [
    "def print_num(N):\n",
    "    for i in range(N):\n",
    "        print(i)\n",
    "\n",
    "print_num(10)"
   ]
  },
  {
   "cell_type": "code",
   "execution_count": 4,
   "metadata": {},
   "outputs": [
    {
     "data": {
      "text/plain": [
       "int"
      ]
     },
     "execution_count": 4,
     "metadata": {},
     "output_type": "execute_result"
    }
   ],
   "source": [
    "#데이터 타입\n",
    "a = 100\n",
    "type(a)"
   ]
  },
  {
   "cell_type": "code",
   "execution_count": 5,
   "metadata": {},
   "outputs": [
    {
     "name": "stdout",
     "output_type": "stream",
     "text": [
      "140731064329752\n",
      "140731064332952\n"
     ]
    }
   ],
   "source": [
    "print(id(100))\n",
    "print(id(200))"
   ]
  },
  {
   "cell_type": "code",
   "execution_count": 4,
   "metadata": {},
   "outputs": [
    {
     "name": "stdout",
     "output_type": "stream",
     "text": [
      "140731064332952 140731064332952\n",
      "140731064332984 140731064332984\n",
      "2554445425424 2554445416912\n"
     ]
    }
   ],
   "source": [
    "a = 200\n",
    "print(id(a),id(200))\n",
    "a = a +1\n",
    "print(id(a),id(201))\n",
    "b= -10\n",
    "print(id(b),id(-10))"
   ]
  },
  {
   "cell_type": "code",
   "execution_count": 5,
   "metadata": {},
   "outputs": [
    {
     "name": "stdout",
     "output_type": "stream",
     "text": [
      "False\n",
      "False\n"
     ]
    }
   ],
   "source": [
    "print(0.1+0.1+0.1 ==0.3)\n",
    "print(0.1*3==0.3)"
   ]
  },
  {
   "cell_type": "code",
   "execution_count": 18,
   "metadata": {},
   "outputs": [
    {
     "name": "stdout",
     "output_type": "stream",
     "text": [
      "0\n",
      "9\n",
      "[0, 1, 2]\n",
      "[1, 3, 5, 7, 9]\n",
      "[3, 4, 5, 6, 7, 8, 9]\n"
     ]
    }
   ],
   "source": [
    "numbers = [0,1,2,3,4,5,6,7,8,9]\n",
    "print(numbers[0])\n",
    "print(numbers[-1])\n",
    "print(numbers[0:3])\n",
    "print(numbers[1::2])\n",
    "print(numbers[3:])"
   ]
  },
  {
   "cell_type": "code",
   "execution_count": 33,
   "metadata": {},
   "outputs": [
    {
     "name": "stdout",
     "output_type": "stream",
     "text": [
      "[0, 2, 4, 6, 8]\n"
     ]
    }
   ],
   "source": [
    "print(numbers[::2])"
   ]
  },
  {
   "cell_type": "markdown",
   "metadata": {},
   "source": [
    "# mutable 객체\n",
    "    객체 값 수정 가능 \n",
    "    ex list set dict\n",
    "\n",
    "# immutable 객체\n",
    "    객체 값 수정 불가능\n",
    "    ex int float \n"
   ]
  },
  {
   "cell_type": "code",
   "execution_count": 7,
   "metadata": {},
   "outputs": [
    {
     "name": "stdout",
     "output_type": "stream",
     "text": [
      "2482646116800\n",
      "[1, 2, 3, 4]\n",
      "2482646116800\n"
     ]
    }
   ],
   "source": [
    "a = [1,2,3]\n",
    "print(id(a))\n",
    "\n",
    "a.append(4)\n",
    "\n",
    "print(a)\n",
    "\n",
    "print(id(a))"
   ]
  },
  {
   "cell_type": "code",
   "execution_count": 8,
   "metadata": {},
   "outputs": [
    {
     "name": "stdout",
     "output_type": "stream",
     "text": [
      "True\n",
      "True\n",
      "True\n"
     ]
    },
    {
     "name": "stderr",
     "output_type": "stream",
     "text": [
      "<>:6: SyntaxWarning: \"is\" with 'int' literal. Did you mean \"==\"?\n",
      "<>:6: SyntaxWarning: \"is\" with 'int' literal. Did you mean \"==\"?\n",
      "C:\\Users\\HKIT\\AppData\\Local\\Temp\\ipykernel_820\\2943764764.py:6: SyntaxWarning: \"is\" with 'int' literal. Did you mean \"==\"?\n",
      "  print(a is 256)\n"
     ]
    }
   ],
   "source": [
    "a =256\n",
    "b =256\n",
    "\n",
    "print(a is b)\n",
    "print(a==b)\n",
    "print(a is 256)"
   ]
  },
  {
   "cell_type": "code",
   "execution_count": 9,
   "metadata": {},
   "outputs": [
    {
     "name": "stdout",
     "output_type": "stream",
     "text": [
      "False\n",
      "True\n",
      "False\n"
     ]
    },
    {
     "name": "stderr",
     "output_type": "stream",
     "text": [
      "<>:7: SyntaxWarning: \"is\" with 'int' literal. Did you mean \"==\"?\n",
      "<>:7: SyntaxWarning: \"is\" with 'int' literal. Did you mean \"==\"?\n",
      "C:\\Users\\HKIT\\AppData\\Local\\Temp\\ipykernel_820\\1244078788.py:7: SyntaxWarning: \"is\" with 'int' literal. Did you mean \"==\"?\n",
      "  print(a is 257)\n"
     ]
    }
   ],
   "source": [
    "a =257\n",
    "b =257\n",
    "\n",
    "#is 연산자는 객체의 동일시 여부를 검사 \n",
    "print(a is b)\n",
    "print(a==b)\n",
    "print(a is 257)"
   ]
  },
  {
   "cell_type": "markdown",
   "metadata": {},
   "source": [
    "같은 값인지 확인하는 연산자는 == 객체 비교는 is"
   ]
  },
  {
   "cell_type": "code",
   "execution_count": 10,
   "metadata": {},
   "outputs": [
    {
     "name": "stdout",
     "output_type": "stream",
     "text": [
      "False\n",
      "True\n"
     ]
    }
   ],
   "source": [
    "a = 1000.0\n",
    "b= 10.0 * 100\n",
    "\n",
    "print(a is b)\n",
    "print(a ==b)"
   ]
  },
  {
   "cell_type": "code",
   "execution_count": 11,
   "metadata": {},
   "outputs": [
    {
     "name": "stdout",
     "output_type": "stream",
     "text": [
      "False\n",
      "True\n"
     ]
    }
   ],
   "source": [
    "print(0.1*3 == 0.3)\n",
    "print(round(0.1*3,1) == round(0.3,1))"
   ]
  },
  {
   "cell_type": "code",
   "execution_count": 12,
   "metadata": {},
   "outputs": [
    {
     "name": "stdout",
     "output_type": "stream",
     "text": [
      "python\n",
      "is\n",
      "Easy\n",
      "python\n",
      "is\n",
      "easy\n"
     ]
    }
   ],
   "source": [
    "string= \"\"\"python\n",
    "is\n",
    "Easy\"\"\"\n",
    "string2=\"python\\nis\\neasy\"\n",
    "print(string)\n",
    "print(string2)"
   ]
  },
  {
   "cell_type": "code",
   "execution_count": 13,
   "metadata": {},
   "outputs": [
    {
     "name": "stdout",
     "output_type": "stream",
     "text": [
      "ytho\n"
     ]
    }
   ],
   "source": [
    "\n",
    "str = \"Python\"\n",
    "print(str[1:5])"
   ]
  },
  {
   "cell_type": "code",
   "execution_count": 14,
   "metadata": {},
   "outputs": [
    {
     "name": "stdout",
     "output_type": "stream",
     "text": [
      "0\n",
      "1\n",
      "2\n"
     ]
    }
   ],
   "source": [
    "for i in range(0,3):\n",
    "    print(i)"
   ]
  },
  {
   "cell_type": "code",
   "execution_count": 15,
   "metadata": {},
   "outputs": [
    {
     "name": "stdout",
     "output_type": "stream",
     "text": [
      "ba\n",
      "b\n",
      "bc\n",
      "a\n"
     ]
    }
   ],
   "source": [
    "a= 'abc'\n",
    "str1 = 'b'+a[:-2]\n",
    "print (str1)\n",
    "\n",
    "print(a[1:2])\n",
    "print(a[-2:])\n",
    "print(a[:-2])"
   ]
  },
  {
   "cell_type": "code",
   "execution_count": 16,
   "metadata": {},
   "outputs": [
    {
     "name": "stdout",
     "output_type": "stream",
     "text": [
      "bbc\n"
     ]
    }
   ],
   "source": [
    "str2=a.replace('a','b')\n",
    "print(str2)"
   ]
  },
  {
   "cell_type": "code",
   "execution_count": 17,
   "metadata": {},
   "outputs": [
    {
     "name": "stdout",
     "output_type": "stream",
     "text": [
      "True\n",
      "True\n"
     ]
    },
    {
     "name": "stderr",
     "output_type": "stream",
     "text": [
      "<>:4: SyntaxWarning: \"is\" with 'str' literal. Did you mean \"==\"?\n",
      "<>:4: SyntaxWarning: \"is\" with 'str' literal. Did you mean \"==\"?\n",
      "C:\\Users\\HKIT\\AppData\\Local\\Temp\\ipykernel_820\\1883402855.py:4: SyntaxWarning: \"is\" with 'str' literal. Did you mean \"==\"?\n",
      "  print(a is'azAZ09_')\n"
     ]
    }
   ],
   "source": [
    "a = 'azAZ09_'\n",
    "b= 'azAZ09_'\n",
    "print(a is b)\n",
    "print(a is'azAZ09_')"
   ]
  },
  {
   "cell_type": "code",
   "execution_count": 18,
   "metadata": {},
   "outputs": [
    {
     "name": "stdout",
     "output_type": "stream",
     "text": [
      "True\n",
      "False\n",
      "True\n"
     ]
    }
   ],
   "source": [
    "a1 ='a'\n",
    "a2 ='bc'\n",
    "c = 'a'+'bc'\n",
    "b='abc'\n",
    "a= a1 +a2\n",
    "print (a ==b)\n",
    "print (a is b)\n",
    "print (b is c)"
   ]
  },
  {
   "cell_type": "code",
   "execution_count": 19,
   "metadata": {},
   "outputs": [
    {
     "name": "stdout",
     "output_type": "stream",
     "text": [
      "True\n"
     ]
    }
   ],
   "source": [
    "import sys\n",
    "a= sys.intern('azAZ09_!')\n",
    "b=sys.intern('azAZ09_!')\n",
    "print (a is b)"
   ]
  },
  {
   "cell_type": "code",
   "execution_count": 20,
   "metadata": {},
   "outputs": [],
   "source": [
    "str = input(\"input str=\")\n",
    "print(str)\n",
    "\n",
    "print(str == 'a')"
   ]
  },
  {
   "cell_type": "markdown",
   "metadata": {},
   "source": [
    "1.3.5 리스트"
   ]
  },
  {
   "cell_type": "code",
   "execution_count": null,
   "metadata": {},
   "outputs": [
    {
     "name": "stdout",
     "output_type": "stream",
     "text": [
      "<class 'list'>\n",
      "<class 'int'>\n",
      "<class 'float'>\n",
      "<class 'str'>\n"
     ]
    }
   ],
   "source": [
    "L = [1,0.01,'a']\n",
    "print(type(L))\n",
    "\n",
    "print(type(L[0]))\n",
    "print(type(L[1]))\n",
    "print(type(L[2]))"
   ]
  },
  {
   "cell_type": "code",
   "execution_count": null,
   "metadata": {},
   "outputs": [
    {
     "name": "stdout",
     "output_type": "stream",
     "text": [
      "True\n",
      "False\n",
      "False\n"
     ]
    }
   ],
   "source": [
    "a= [1,2,3]\n",
    "b= [1,2,3]\n",
    "c=[2,1,3]\n",
    "\n",
    "print(a ==b)\n",
    "print(a ==c)\n",
    "print(a is b)\n",
    "#원소는 같아도 순서가 다르면 다른 리스트\n",
    "#원소가 같아도 다른 객체"
   ]
  },
  {
   "cell_type": "code",
   "execution_count": null,
   "metadata": {},
   "outputs": [
    {
     "name": "stdout",
     "output_type": "stream",
     "text": [
      "[1, 2, 3] [1, 2, 3] [1, 2, 3] [1, 2, 3]\n",
      "[100, 2, 3] [100, 2, 3] [1, 2, 3] [1, 2, 3]\n"
     ]
    }
   ],
   "source": [
    "import copy\n",
    "a= [1,2,3]\n",
    "b= a #\n",
    "c=copy.copy(a)\n",
    "d=copy.deepcopy(a)\n",
    "print(a,b,c,d)\n",
    "\n",
    "b[0] = 100\n",
    "print(a,b,c,d)"
   ]
  },
  {
   "cell_type": "code",
   "execution_count": null,
   "metadata": {},
   "outputs": [
    {
     "name": "stdout",
     "output_type": "stream",
     "text": [
      "[['a', 2, 3], [4, 5, 6]]\n",
      "[[1, 2, 3], [4, 5, 6]]\n"
     ]
    }
   ],
   "source": [
    "import copy\n",
    "\n",
    "# 얕은 복사 예시\n",
    "original_list = [[1, 2, 3], [4, 5, 6]]\n",
    "shallow_copied_list = copy.copy(original_list)\n",
    "shallow_copied_list[0][0] = 'a' # 내부 리스트 변경\n",
    "print(original_list) # 원본도 변경됨: [['a', 2, 3], [4, 5, 6]]\n",
    "\n",
    "# 깊은 복사 예시\n",
    "original_list = [[1, 2, 3], [4, 5, 6]]\n",
    "deep_copied_list = copy.deepcopy(original_list)\n",
    "deep_copied_list[0][0] = 'a' # 내부 리스트 변경\n",
    "print(original_list) # 원본은 변경되지 않음: [[1, 2, 3], [4, 5, 6]]"
   ]
  },
  {
   "cell_type": "code",
   "execution_count": null,
   "metadata": {},
   "outputs": [
    {
     "name": "stdout",
     "output_type": "stream",
     "text": [
      "[0, 1, 2, 3, 4, 5, 6]\n"
     ]
    }
   ],
   "source": [
    "L = [0,1,2,3,4,5,6]\n",
    "print(L)\n"
   ]
  },
  {
   "cell_type": "markdown",
   "metadata": {},
   "source": [
    "L[start:end:step]"
   ]
  },
  {
   "cell_type": "code",
   "execution_count": null,
   "metadata": {},
   "outputs": [
    {
     "data": {
      "text/plain": [
       "[0, 2, 4, 6]"
      ]
     },
     "execution_count": 72,
     "metadata": {},
     "output_type": "execute_result"
    }
   ],
   "source": [
    "L[0::2]"
   ]
  },
  {
   "cell_type": "code",
   "execution_count": null,
   "metadata": {},
   "outputs": [
    {
     "name": "stdout",
     "output_type": "stream",
     "text": [
      "[-1, 1, 2, 3, 4, 5, 6]\n"
     ]
    }
   ],
   "source": [
    "L[0] = -1\n",
    "print(L)"
   ]
  },
  {
   "cell_type": "code",
   "execution_count": null,
   "metadata": {},
   "outputs": [
    {
     "data": {
      "text/plain": [
       "[1, 3, 5, 7, 9]"
      ]
     },
     "execution_count": 81,
     "metadata": {},
     "output_type": "execute_result"
    }
   ],
   "source": [
    "list(range(1,10))\n",
    "list(range(1,10,2))"
   ]
  },
  {
   "cell_type": "markdown",
   "metadata": {},
   "source": [
    "1.3.6 튜플"
   ]
  },
  {
   "cell_type": "code",
   "execution_count": null,
   "metadata": {},
   "outputs": [
    {
     "name": "stdout",
     "output_type": "stream",
     "text": [
      "<class 'tuple'>\n"
     ]
    }
   ],
   "source": [
    "t = (1, 0.01,'a')\n",
    "print(type(t))"
   ]
  },
  {
   "cell_type": "markdown",
   "metadata": {},
   "source": [
    "1.3.8 집합"
   ]
  },
  {
   "cell_type": "code",
   "execution_count": null,
   "metadata": {},
   "outputs": [
    {
     "data": {
      "text/plain": [
       "set"
      ]
     },
     "execution_count": 83,
     "metadata": {},
     "output_type": "execute_result"
    }
   ],
   "source": [
    "fruits = {'사과','배','귤'}\n",
    "type(fruits)"
   ]
  },
  {
   "cell_type": "code",
   "execution_count": null,
   "metadata": {},
   "outputs": [
    {
     "name": "stdout",
     "output_type": "stream",
     "text": [
      "{1, 2, 3, 4, 5}\n",
      "True\n"
     ]
    }
   ],
   "source": [
    "a = set(range(1,6))\n",
    "print(a)\n",
    "print(1 in a)"
   ]
  },
  {
   "cell_type": "markdown",
   "metadata": {},
   "source": [
    "1.4.2 for 문\n",
    "-반복문\n",
    "-튜플 리스트 문자열 등 데이터 타입의 원소를 하나씩 가져오기"
   ]
  },
  {
   "cell_type": "code",
   "execution_count": null,
   "metadata": {},
   "outputs": [
    {
     "name": "stdout",
     "output_type": "stream",
     "text": [
      "jan\n",
      "feb\n",
      "mar\n",
      "aprl\n"
     ]
    }
   ],
   "source": [
    "months = ['jan','feb','mar','aprl']\n",
    "for month in months:\n",
    "    print(month)"
   ]
  },
  {
   "cell_type": "code",
   "execution_count": null,
   "metadata": {},
   "outputs": [
    {
     "name": "stdout",
     "output_type": "stream",
     "text": [
      "0\n",
      "2\n",
      "4\n",
      "6\n",
      "8\n",
      "10\n"
     ]
    }
   ],
   "source": [
    "for i in range(0,12,2):\n",
    "    print(i)"
   ]
  },
  {
   "cell_type": "code",
   "execution_count": null,
   "metadata": {},
   "outputs": [
    {
     "name": "stdout",
     "output_type": "stream",
     "text": [
      "1부터 4까지의 홀수 합은: 4\n"
     ]
    }
   ],
   "source": [
    "# 사용자로부터 숫자를 입력받습니다.\n",
    "n = int(input(\"숫자를 입력하세요: \"))\n",
    "\n",
    "# 홀수 합을 저장할 변수를 초기화합니다.\n",
    "odd_sum = 0\n",
    "\n",
    "# 1부터 n까지의 숫자 중 홀수의 합을 구합니다.\n",
    "for i in range(1, n + 1):\n",
    "    if i % 2 != 0:\n",
    "        odd_sum += i\n",
    "\n",
    "# 결과를 출력합니다.\n",
    "print(f\"1부터 {n}까지의 홀수 합은: {odd_sum}\")"
   ]
  },
  {
   "cell_type": "markdown",
   "metadata": {},
   "source": [
    "1.5 함수\n",
    "-def문 사용"
   ]
  },
  {
   "cell_type": "code",
   "execution_count": 35,
   "metadata": {},
   "outputs": [
    {
     "name": "stdout",
     "output_type": "stream",
     "text": [
      "4 -2\n"
     ]
    }
   ],
   "source": [
    "def f(x,y):\n",
    "    return x+y,x-y,x/y\n",
    "\n",
    "add, sub ,div= f(1,3)\n",
    "print(add,sub)"
   ]
  },
  {
   "cell_type": "code",
   "execution_count": 38,
   "metadata": {},
   "outputs": [
    {
     "name": "stdout",
     "output_type": "stream",
     "text": [
      "5\n",
      "5\n"
     ]
    }
   ],
   "source": [
    "x =10\n",
    "\n",
    "def f():\n",
    "    global x\n",
    "    x=5\n",
    "    print(x)\n",
    "f()\n",
    "\n",
    "print(x)"
   ]
  },
  {
   "cell_type": "code",
   "execution_count": 46,
   "metadata": {},
   "outputs": [
    {
     "name": "stdout",
     "output_type": "stream",
     "text": [
      "[1, [2, 3, [5, 6]]] [1, [2, 3, [5, 6]]]\n",
      "[5, [2, 3, [3, 9]]] [1, [2, 3, [3, 9]]]\n",
      "[5, [3, 9]] [1, [2, 3, [3, 9]]]\n"
     ]
    }
   ],
   "source": [
    "import copy\n",
    "a =[1,[2,3,[5,6]]]\n",
    "b = a.copy()\n",
    "\n",
    "print(a , b)\n",
    "\n",
    "a[0] = 5\n",
    "\n",
    "a[1][2] = [3,9]\n",
    "\n",
    "print(a,b)\n",
    "\n",
    "\n",
    "a[1] = [3,9]\n",
    "\n",
    "print(a,b)"
   ]
  },
  {
   "cell_type": "code",
   "execution_count": 1,
   "metadata": {},
   "outputs": [
    {
     "name": "stdout",
     "output_type": "stream",
     "text": [
      "385\n",
      "3025\n"
     ]
    }
   ],
   "source": [
    "def f(n,e=2):\n",
    "    sum= 0\n",
    "    for i in range(n+1):\n",
    "        temp = i**e\n",
    "        sum = sum+temp\n",
    "    return sum\n",
    "\n",
    "print(f(10))\n",
    "print(f(10,3))"
   ]
  },
  {
   "cell_type": "code",
   "execution_count": 2,
   "metadata": {},
   "outputs": [
    {
     "name": "stdout",
     "output_type": "stream",
     "text": [
      "f = open('main.py','r')\n",
      "s=f.read()\n",
      "print(s)\n",
      "f.close()\n"
     ]
    }
   ],
   "source": [
    "f = open('main.py','r')\n",
    "s=f.read()\n",
    "print(s)\n",
    "f.close()"
   ]
  },
  {
   "cell_type": "code",
   "execution_count": 4,
   "metadata": {},
   "outputs": [
    {
     "name": "stdout",
     "output_type": "stream",
     "text": [
      "0 f = open('main.py','r')\n",
      "\n",
      "1 s=f.read()\n",
      "\n",
      "2 print(s)\n",
      "\n",
      "3 f.close()\n"
     ]
    }
   ],
   "source": [
    "f1 = open('main.py','r')\n",
    "f2 = open('test.py','w')\n",
    "for idx,line in enumerate(f1):\n",
    "    print(idx,line)\n",
    "    f2.write(line)\n",
    "f1.close()\n",
    "f2.close()"
   ]
  },
  {
   "cell_type": "code",
   "execution_count": null,
   "metadata": {},
   "outputs": [],
   "source": []
  }
 ],
 "metadata": {
  "kernelspec": {
   "display_name": "Python 3",
   "language": "python",
   "name": "python3"
  },
  "language_info": {
   "codemirror_mode": {
    "name": "ipython",
    "version": 3
   },
   "file_extension": ".py",
   "mimetype": "text/x-python",
   "name": "python",
   "nbconvert_exporter": "python",
   "pygments_lexer": "ipython3",
   "version": "3.12.3"
  }
 },
 "nbformat": 4,
 "nbformat_minor": 2
}
