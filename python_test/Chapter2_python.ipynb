{
 "cells": [
  {
   "cell_type": "markdown",
   "metadata": {},
   "source": [
    "# Chapter2 넘파이"
   ]
  },
  {
   "cell_type": "markdown",
   "metadata": {},
   "source": [
    "Numpy : 수치계산 위한 라이브러리, 모듈 \n",
    "다차원 배열을 효율적으로 구현\n"
   ]
  },
  {
   "cell_type": "code",
   "execution_count": 2,
   "metadata": {},
   "outputs": [
    {
     "name": "stdout",
     "output_type": "stream",
     "text": [
      "4.85204030002933\n",
      "0.48355280002579093\n"
     ]
    }
   ],
   "source": [
    "import timeit\n",
    "\n",
    "t1=timeit.timeit('[i**2 for i in A]',setup='A=range(100)')\n",
    "print(t1)\n",
    "t2=timeit.timeit('b**2',setup='import numpy as np; b=np.arange(100)')\n",
    "print(t2)"
   ]
  },
  {
   "cell_type": "code",
   "execution_count": 6,
   "metadata": {},
   "outputs": [
    {
     "name": "stdout",
     "output_type": "stream",
     "text": [
      "[1 2 3]\n"
     ]
    }
   ],
   "source": [
    "import numpy as np\n",
    "A = np.array([1,2,3],dtype=np.int64)\n",
    "print(A)"
   ]
  },
  {
   "cell_type": "code",
   "execution_count": 7,
   "metadata": {},
   "outputs": [
    {
     "data": {
      "text/plain": [
       "3"
      ]
     },
     "execution_count": 7,
     "metadata": {},
     "output_type": "execute_result"
    }
   ],
   "source": [
    "len(A)"
   ]
  },
  {
   "cell_type": "code",
   "execution_count": 8,
   "metadata": {},
   "outputs": [
    {
     "data": {
      "text/plain": [
       "numpy.int64"
      ]
     },
     "execution_count": 8,
     "metadata": {},
     "output_type": "execute_result"
    }
   ],
   "source": [
    "type(A[0])"
   ]
  },
  {
   "cell_type": "code",
   "execution_count": 10,
   "metadata": {},
   "outputs": [
    {
     "name": "stdout",
     "output_type": "stream",
     "text": [
      "9\n",
      "36\n"
     ]
    }
   ],
   "source": [
    "def sum_of(n,power=2):\n",
    "    return sum([i**power for i in range(1,n+1)]) \n",
    "\n",
    "print(3**2)\n",
    "print(sum_of(3,3))"
   ]
  },
  {
   "cell_type": "code",
   "execution_count": 15,
   "metadata": {},
   "outputs": [
    {
     "name": "stdout",
     "output_type": "stream",
     "text": [
      "[1 2 3 4 5]\n",
      "[5 4 3 2 1]\n",
      "[6 6 6 6 6]\n"
     ]
    }
   ],
   "source": [
    "import numpy as np\n",
    "arr =np.arange(1,6)\n",
    "arr2 = np.array([5,4,3,2,1])\n",
    "print(arr)\n",
    "print(arr2)\n",
    "result = arr+arr2\n",
    "print(result)"
   ]
  },
  {
   "cell_type": "code",
   "execution_count": 20,
   "metadata": {},
   "outputs": [
    {
     "name": "stdout",
     "output_type": "stream",
     "text": [
      "[  0.           5.26315789  10.52631579  15.78947368  21.05263158\n",
      "  26.31578947  31.57894737  36.84210526  42.10526316  47.36842105\n",
      "  52.63157895  57.89473684  63.15789474  68.42105263  73.68421053\n",
      "  78.94736842  84.21052632  89.47368421  94.73684211 100.        ]\n"
     ]
    }
   ],
   "source": [
    "arr =np.linspace(0, 100, 20)\n",
    "print(arr)"
   ]
  },
  {
   "cell_type": "markdown",
   "metadata": {},
   "source": [
    "2.3.3 shape 변환함수\n",
    "\n",
    "-배열의  shape를 변경할 수 있는 함수\n",
    "\n",
    "-reshape 메소드 배열의 데이터를 공유하는 shape가 다른 view를 생성"
   ]
  },
  {
   "cell_type": "code",
   "execution_count": 28,
   "metadata": {},
   "outputs": [
    {
     "name": "stdout",
     "output_type": "stream",
     "text": [
      "[ 0  1  2  3  4  5  6  7  8  9 10 11 12 13 14 15]\n",
      "[ 1  2  3  4  5  6  7  8  9 10 11 12 13 14]\n",
      "[[ 0  1  2  3]\n",
      " [ 4  5  6  7]\n",
      " [ 8  9 10 11]\n",
      " [12 13 14 15]]\n"
     ]
    },
    {
     "data": {
      "text/plain": [
       "True"
      ]
     },
     "execution_count": 28,
     "metadata": {},
     "output_type": "execute_result"
    }
   ],
   "source": [
    "#0~15의 원소로이루어진 배열 A생성\n",
    "\n",
    "A = np.arange(16)\n",
    "print(A)\n",
    "C = A[1:-1]\n",
    "print(C)\n",
    "B = A.reshape(4,4)\n",
    "print(B)\n",
    "\n",
    "B.base is A"
   ]
  },
  {
   "cell_type": "code",
   "execution_count": 29,
   "metadata": {},
   "outputs": [
    {
     "name": "stdout",
     "output_type": "stream",
     "text": [
      "파일 처리가 완료되었습니다.\n"
     ]
    }
   ],
   "source": [
    "# 파일을 열고 각 줄 앞에 번호를 붙여 새 파일에 저장하는 함수\n",
    "def add_line_numbers(input_file_path, output_file_path):\n",
    "    try:\n",
    "        # 입력 파일을 읽기 모드로 열기\n",
    "        with open(input_file_path, 'r', encoding='utf-8') as file:\n",
    "            lines = file.readlines()\n",
    "\n",
    "        # 출력 파일을 쓰기 모드로 열기\n",
    "        with open(output_file_path, 'w', encoding='utf-8') as file:\n",
    "            # 각 줄에 대해 반복\n",
    "            for i, line in enumerate(lines, start=1):\n",
    "                # 줄 번호와 함께 해당 줄을 새 파일에 쓰기\n",
    "                file.write(f\"{i}: {line}\")\n",
    "                \n",
    "        print(\"파일 처리가 완료되었습니다.\")\n",
    "        \n",
    "    except Exception as e:\n",
    "        print(f\"오류가 발생했습니다: {e}\")\n",
    "\n",
    "# 사용 예제\n",
    "input_file_path = 'example.txt'  # 이 부분을 읽고자 하는 파일 경로로 변경하세요.\n",
    "output_file_path = 'numbered_example.txt'  # 이 부분을 원하는 출력 파일 경로로 변경하세요.\n",
    "\n",
    "add_line_numbers(input_file_path, output_file_path)"
   ]
  },
  {
   "cell_type": "markdown",
   "metadata": {},
   "source": [
    "2.2.4 배열 결합 함수\n",
    "\n",
    "-배열 결합시 사용하는 함수 뷰가 아닌 새로운 배열을 리턴한다.\n",
    "\n",
    "-기존배열에 영향을 주지않는다."
   ]
  },
  {
   "cell_type": "code",
   "execution_count": 33,
   "metadata": {},
   "outputs": [
    {
     "name": "stdout",
     "output_type": "stream",
     "text": [
      "[[1 2]\n",
      " [3 4]]\n",
      "[[1 0]\n",
      " [0 1]]\n",
      "[[1 2]\n",
      " [3 4]\n",
      " [1 0]\n",
      " [0 1]]\n",
      "[[1 2 1 0]\n",
      " [3 4 0 1]]\n"
     ]
    }
   ],
   "source": [
    "import numpy as np\n",
    "\n",
    "A = np.array([[1,2],[3,4]])\n",
    "B = np.array([[1,0],[0,1]])\n",
    "C = np.vstack([A,B])\n",
    "D = np.hstack([A,B])\n",
    "\n",
    "print(A)\n",
    "print(B)\n",
    "print(C)\n",
    "print(D)"
   ]
  },
  {
   "cell_type": "code",
   "execution_count": 34,
   "metadata": {},
   "outputs": [
    {
     "name": "stdout",
     "output_type": "stream",
     "text": [
      "[[1 4 7]\n",
      " [2 5 8]\n",
      " [3 6 9]]\n",
      "[1 2 3]\n"
     ]
    }
   ],
   "source": [
    "#column_stack\n",
    "\n",
    "a = np.array([1,2,3])\n",
    "b = np.array([4,5,6])\n",
    "c = np.array([7,8,9])\n",
    "\n",
    "E = np.column_stack([a,b,c])\n",
    "print(E)\n",
    "print(a)\n"
   ]
  },
  {
   "cell_type": "code",
   "execution_count": 35,
   "metadata": {},
   "outputs": [
    {
     "name": "stdout",
     "output_type": "stream",
     "text": [
      "[[1 2]\n",
      " [3 4]\n",
      " [1 0]\n",
      " [0 1]]\n",
      "[[1 2 1 0]\n",
      " [3 4 0 1]]\n"
     ]
    }
   ],
   "source": [
    "A = np.array([[1,2],[3,4]])\n",
    "B = np.array([[1,0],[0,1]])\n",
    "\n",
    "print(np.concatenate((A,B),axis=0))\n",
    "print(np.concatenate((A,B),axis=1))"
   ]
  },
  {
   "cell_type": "code",
   "execution_count": 1,
   "metadata": {},
   "outputs": [
    {
     "name": "stdout",
     "output_type": "stream",
     "text": [
      "[array([[0],\n",
      "       [3],\n",
      "       [6]]), array([[1],\n",
      "       [4],\n",
      "       [7]]), array([[2],\n",
      "       [5],\n",
      "       [8]])]\n",
      "[[ 0  1  2  3  4  5]\n",
      " [ 6  7  8  9 10 11]\n",
      " [12 13 14 15 16 17]]\n",
      "[array([[ 0],\n",
      "       [ 6],\n",
      "       [12]]), array([[ 1,  2],\n",
      "       [ 7,  8],\n",
      "       [13, 14]]), array([[ 3,  4],\n",
      "       [ 9, 10],\n",
      "       [15, 16]]), array([[ 5],\n",
      "       [11],\n",
      "       [17]])]\n"
     ]
    }
   ],
   "source": [
    "#hsplit 행 방향 분할 -> 세로 방향\n",
    "import numpy as np\n",
    "A = np.arange(9).reshape(3,3)\n",
    "\n",
    "a =np.hsplit(A,3)\n",
    "print(a)\n",
    "B= np.arange(18).reshape(3,6)\n",
    "#3행 6열 생성\n",
    "print(B)\n",
    "\n",
    "b=np.hsplit(B,(1,3,5))\n",
    "#2열과 4열로 끊겠다\n",
    "\n",
    "print(b)"
   ]
  },
  {
   "cell_type": "code",
   "execution_count": 43,
   "metadata": {},
   "outputs": [
    {
     "name": "stdout",
     "output_type": "stream",
     "text": [
      "[[0 1 2]\n",
      " [3 4 5]\n",
      " [6 7 8]]\n",
      "[array([[0, 1, 2]]), array([[3, 4, 5]]), array([[6, 7, 8]])]\n"
     ]
    }
   ],
   "source": [
    "#Vsplit\n",
    "A = np.arange(9).reshape(3,3)\n",
    "print(A)\n",
    "\n",
    "a = np.vsplit(A,3)\n",
    "print(a)"
   ]
  },
  {
   "cell_type": "code",
   "execution_count": 48,
   "metadata": {},
   "outputs": [
    {
     "name": "stdout",
     "output_type": "stream",
     "text": [
      "[[ 0  1  2  3]\n",
      " [ 4  5  6  7]\n",
      " [ 8  9 10 11]\n",
      " [12 13 14 15]\n",
      " [16 17 18 19]\n",
      " [20 21 22 23]]\n",
      "[array([[0, 1, 2, 3]]), array([[ 4,  5,  6,  7],\n",
      "       [ 8,  9, 10, 11],\n",
      "       [12, 13, 14, 15]]), array([[16, 17, 18, 19],\n",
      "       [20, 21, 22, 23]])]\n"
     ]
    }
   ],
   "source": [
    "B= np.arange(24).reshape(6,4)\n",
    "print(B)\n",
    "b= np.vsplit(B,(1,4))\n",
    "print(b)"
   ]
  },
  {
   "cell_type": "code",
   "execution_count": 60,
   "metadata": {},
   "outputs": [
    {
     "name": "stdout",
     "output_type": "stream",
     "text": [
      "[ 0  1  2  3  4  5  6  7  8  9 10 11 12 13 14 15 16 17 18 19 20 21 22 23\n",
      " 24 25 26 27 28 29 30 31 32 33 34]\n",
      "[[ 0  1  2  3  4]\n",
      " [ 5  6  7  8  9]\n",
      " [10 11 12 13 14]\n",
      " [15 16 17 18 19]\n",
      " [20 21 22 23 24]\n",
      " [25 26 27 28 29]\n",
      " [30 31 32 33 34]]\n",
      "[array([[0, 1, 2, 3, 4]]), array([[ 5,  6,  7,  8,  9],\n",
      "       [10, 11, 12, 13, 14],\n",
      "       [15, 16, 17, 18, 19]]), array([[20, 21, 22, 23, 24],\n",
      "       [25, 26, 27, 28, 29],\n",
      "       [30, 31, 32, 33, 34]])]\n"
     ]
    }
   ],
   "source": [
    "A = np.arange(35)\n",
    "print(A)\n",
    "B = A.reshape(7,5)\n",
    "print(B)\n",
    "b=np.vsplit(B,(1,4))\n",
    "print(b)\n",
    "\n"
   ]
  },
  {
   "cell_type": "code",
   "execution_count": 76,
   "metadata": {},
   "outputs": [
    {
     "name": "stdout",
     "output_type": "stream",
     "text": [
      "[[1 2 3]\n",
      " [4 5 6]]\n",
      "[1 2 3 4 5 6]\n",
      "[1 2 3 4 5 6]\n",
      "[[1 2 3 4 5 6]]\n"
     ]
    }
   ],
   "source": [
    "a = np.array([1,2,3])\n",
    "b = np.array([4,5,6])\n",
    "c = np.vstack([a,b])\n",
    "d = np.hstack([a,b])\n",
    "\n",
    "print(c)\n",
    "print(d)\n",
    "print(np.concatenate((a,b),axis=0))\n"
   ]
  },
  {
   "cell_type": "code",
   "execution_count": 73,
   "metadata": {},
   "outputs": [
    {
     "name": "stdout",
     "output_type": "stream",
     "text": [
      "[[2 3 1 1]\n",
      " [5 7 1 1]]\n"
     ]
    }
   ],
   "source": [
    "import numpy as np\n",
    "a = np.array([[2,3],[5,7]])\n",
    "b = np.array([[1,1],[1,1]])\n",
    "c = np.hstack((a,b))\n",
    "print(c)"
   ]
  },
  {
   "cell_type": "markdown",
   "metadata": {},
   "source": [
    "2.3.1 인덱싱\n",
    "\n",
    "파이썬 처럼 인덱싱이 가능"
   ]
  },
  {
   "cell_type": "code",
   "execution_count": 83,
   "metadata": {},
   "outputs": [
    {
     "name": "stdout",
     "output_type": "stream",
     "text": [
      "[ 0  2  4  6  8 10 12 14]\n",
      "(8,)\n",
      "14\n",
      "[[ 0  1  2  3]\n",
      " [ 4  5  6  7]\n",
      " [ 8  9 10 11]]\n",
      "2\n"
     ]
    }
   ],
   "source": [
    "import numpy as np\n",
    "\n",
    "A = np.arange(0,15,2)\n",
    "print(A)\n",
    "\n",
    "print(A.shape)\n",
    "\n",
    "# 인덱스가 음수이면 배열의 마지막부터\n",
    "print(A[-1])\n",
    "\n",
    "a = np.arange(12).reshape(3,4)\n",
    "print(a)\n",
    "print(a.ndim)"
   ]
  },
  {
   "cell_type": "code",
   "execution_count": 87,
   "metadata": {},
   "outputs": [
    {
     "name": "stdout",
     "output_type": "stream",
     "text": [
      "[[0 1 2]\n",
      " [3 4 5]\n",
      " [6 7 8]]\n",
      "[0 1 2]\n",
      "[3 4 5]\n",
      "[6 7 8]\n",
      "[0 3 6]\n",
      "[1 4 7]\n",
      "[2 5 8]\n"
     ]
    }
   ],
   "source": [
    "A = np.arange(9).reshape(3,3)\n",
    "print(A)\n",
    "\n",
    "for rows in A:\n",
    "    print(rows)\n",
    "\n",
    "for column in A.T:\n",
    "    print(column)"
   ]
  },
  {
   "cell_type": "code",
   "execution_count": 89,
   "metadata": {},
   "outputs": [
    {
     "name": "stdout",
     "output_type": "stream",
     "text": [
      "[[0 1 2]\n",
      " [3 4 5]\n",
      " [6 7 8]]\n"
     ]
    }
   ],
   "source": [
    "#배열 원소 개별 출력 flat\n",
    "\n",
    "A = np.arange(9).reshape(3,3)\n",
    "print(A)"
   ]
  },
  {
   "cell_type": "markdown",
   "metadata": {},
   "source": [
    "2.3.2 슬라이싱\n",
    "\n",
    "- 배열의 일부 지정 원소값 읽어오거나 변경 "
   ]
  },
  {
   "cell_type": "code",
   "execution_count": 97,
   "metadata": {},
   "outputs": [
    {
     "name": "stdout",
     "output_type": "stream",
     "text": [
      "[ 0  2  4  6  8 10 12 14]\n",
      "[ 0  1  2  3  4  5  6  7  8  9 10 11 12]\n"
     ]
    }
   ],
   "source": [
    "import numpy as np\n",
    "A = np.arange(0,15,2)\n",
    "print(A)\n",
    "B = np.arange(15)\n",
    "print(B[:-2])"
   ]
  },
  {
   "cell_type": "code",
   "execution_count": 103,
   "metadata": {},
   "outputs": [
    {
     "name": "stdout",
     "output_type": "stream",
     "text": [
      "[[ 0  1  2  3]\n",
      " [ 4  5  6  7]\n",
      " [ 8  9 10 11]]\n",
      "[0 1 2 3]\n",
      "[0 4 8]\n",
      "[0 4 8]\n",
      "[1 5 9]\n"
     ]
    }
   ],
   "source": [
    "A = np.arange(12).reshape(3,4)\n",
    "\n",
    "print(A)\n",
    "A.shape\n",
    "print(A[0]) \n",
    "#행은 이런식으로 가능\n",
    "\n",
    "#열은?\n",
    "print(A[:,0])\n",
    "\n",
    "print(A[...,0])\n",
    "print(A[:,1])"
   ]
  },
  {
   "cell_type": "markdown",
   "metadata": {},
   "source": [
    "2.4 얕은 복사와 깊은 복사\n",
    "-넘파이 배열을 다룰때 3가지경우가 있다.\n",
    "-대입\n",
    "넘파이 배열을 가리키는 변수를 다른변수에 대입하면 2개의 변수가 하나의 넘파이 배열을 가리킨다."
   ]
  },
  {
   "cell_type": "code",
   "execution_count": 4,
   "metadata": {},
   "outputs": [
    {
     "name": "stdout",
     "output_type": "stream",
     "text": [
      "[ 0  2  4  6  8 10 12 14]\n"
     ]
    },
    {
     "data": {
      "text/plain": [
       "array([0, 2, 4, 6])"
      ]
     },
     "execution_count": 4,
     "metadata": {},
     "output_type": "execute_result"
    }
   ],
   "source": [
    "A = np.arange(0,15,2)\n",
    "print(A)\n",
    "A[:4]"
   ]
  }
 ],
 "metadata": {
  "kernelspec": {
   "display_name": "Python 3",
   "language": "python",
   "name": "python3"
  },
  "language_info": {
   "codemirror_mode": {
    "name": "ipython",
    "version": 3
   },
   "file_extension": ".py",
   "mimetype": "text/x-python",
   "name": "python",
   "nbconvert_exporter": "python",
   "pygments_lexer": "ipython3",
   "version": "3.12.3"
  }
 },
 "nbformat": 4,
 "nbformat_minor": 2
}
