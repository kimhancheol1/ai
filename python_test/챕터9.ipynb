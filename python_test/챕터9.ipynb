{
 "cells": [
  {
   "cell_type": "markdown",
   "metadata": {},
   "source": [
    "# 9장 "
   ]
  },
  {
   "cell_type": "code",
   "execution_count": 3,
   "metadata": {},
   "outputs": [],
   "source": [
    "import numpy as np\n",
    "\n",
    "def logistic(x):\n",
    "    return 1 / (1+np.exp(-x))"
   ]
  },
  {
   "cell_type": "code",
   "execution_count": 5,
   "metadata": {},
   "outputs": [],
   "source": [
    "import numpy as np\n",
    "\n",
    "def network(X, W):\n",
    "    \"\"\"\n",
    "    X : (N, D)\n",
    "    W : (3, 3)\n",
    "        [b^(1)_1, w^(1)_11, w^(1)_12]\n",
    "        [b^(1)_2, w^(1)_21, w^(1)_22]\n",
    "        [b^(2)_1, w^(2)_11, w^(2)_12]\n",
    "    \n",
    "    ret : (N,)\n",
    "    \n",
    "    D, H, A = 2, 2, 1\n",
    "    \"\"\"\n",
    "    X = np.hstack( (np.ones(X.shape[0]).reshape(-1,1), X) ) # (N,D)->(N,D+1)\n",
    "    Z1 = np.dot(W[:2,:], X.T) # (H,N)=(H,D+1)*(D+1,N)\n",
    "    A1 = logistic(Z1)           # (H,N)\n",
    "    A1 = np.vstack((np.ones(A1.shape[1]), A1)) # (H,N)->(H+1,N)\n",
    "    Z = np.dot(W[-1,:], A1) # (H+1,)*(H+1,N)\n",
    "    A2 = logistic(Z)         # (N,)\n",
    "    \n",
    "    return A2"
   ]
  },
  {
   "cell_type": "code",
   "execution_count": 8,
   "metadata": {},
   "outputs": [
    {
     "ename": "NameError",
     "evalue": "name 'target' is not defined",
     "output_type": "error",
     "traceback": [
      "\u001b[1;31m---------------------------------------------------------------------------\u001b[0m",
      "\u001b[1;31mNameError\u001b[0m                                 Traceback (most recent call last)",
      "Cell \u001b[1;32mIn[8], line 7\u001b[0m\n\u001b[0;32m      4\u001b[0m pred[pred\u001b[38;5;241m>\u001b[39m\u001b[38;5;241m=\u001b[39m\u001b[38;5;241m0.5\u001b[39m] \u001b[38;5;241m=\u001b[39m \u001b[38;5;241m1\u001b[39m\n\u001b[0;32m      5\u001b[0m pred[pred\u001b[38;5;241m<\u001b[39m\u001b[38;5;241m0.5\u001b[39m] \u001b[38;5;241m=\u001b[39m \u001b[38;5;241m0\u001b[39m\n\u001b[1;32m----> 7\u001b[0m result \u001b[38;5;241m=\u001b[39m pred\u001b[38;5;241m==\u001b[39m\u001b[43mtarget\u001b[49m\n\u001b[0;32m      9\u001b[0m np\u001b[38;5;241m.\u001b[39msize(result) \u001b[38;5;241m-\u001b[39m np\u001b[38;5;241m.\u001b[39mcount_nonzero(result)\n",
      "\u001b[1;31mNameError\u001b[0m: name 'target' is not defined"
     ]
    }
   ],
   "source": [
    "W = np.array([ [-15, 3, 5], [18, -6, -3], [4, 10, -9] ])\n",
    "pred = network(samples, W)\n",
    "\n",
    "pred[pred>=0.5] = 1\n",
    "pred[pred<0.5] = 0\n",
    "\n",
    "result = pred==target\n",
    "\n",
    "np.size(result) - np.count_nonzero(result)"
   ]
  },
  {
   "cell_type": "code",
   "execution_count": 7,
   "metadata": {},
   "outputs": [],
   "source": [
    "np.random.seed(3)\n",
    "\n",
    "# 0~5에서 무작위 점 500개 추출\n",
    "N = 500\n",
    "samples = (np.random.rand(N*2)*5).reshape(N,2)"
   ]
  }
 ],
 "metadata": {
  "kernelspec": {
   "display_name": "Python 3",
   "language": "python",
   "name": "python3"
  },
  "language_info": {
   "codemirror_mode": {
    "name": "ipython",
    "version": 3
   },
   "file_extension": ".py",
   "mimetype": "text/x-python",
   "name": "python",
   "nbconvert_exporter": "python",
   "pygments_lexer": "ipython3",
   "version": "3.12.3"
  }
 },
 "nbformat": 4,
 "nbformat_minor": 2
}
